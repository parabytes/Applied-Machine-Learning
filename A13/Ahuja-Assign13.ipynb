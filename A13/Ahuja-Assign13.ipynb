{
 "cells": [
  {
   "cell_type": "markdown",
   "metadata": {},
   "source": [
    "# Assigment 13 | Applied Machine Learning | Paras Ahuja"
   ]
  },
  {
   "cell_type": "markdown",
   "metadata": {},
   "source": [
    "Pre-process a single file using 20 frequency bins(i.e.M), and 2000 sampling\n",
    "frequency (controls the number of data points), such as,\n",
    "        \n",
    "        x, fs = librosa.load(Path_dataset+'cat_1.wav', sr=SAMPLING_FRQ) \n",
    "        mfccs = librosa.feature.mfcc(x, sr=fs, n_mfcc=M) \n",
    "        librosa.display.specshow(mfccs, sr=fs, x_axis='time')\n",
    "\n",
    "cat_1.wav file (signal) will generate 20 features, and 44 data points. Note that 2000Hz sampling frequency in fact would ignore frequencies higher than 1000Hz and we assume cats and dogs sounds are less than that range. Changing that limit to 3k, and 4k are suggested, but then this will increase the number of data points to be processed.\n",
    "\n",
    "Display the spectrogram in your notebook."
   ]
  },
  {
   "cell_type": "code",
   "execution_count": 1,
   "metadata": {},
   "outputs": [
    {
     "name": "stdout",
     "output_type": "stream",
     "text": [
      "PyTorch version= 1.7.0\n",
      "CUDA available= False\n"
     ]
    }
   ],
   "source": [
    "%matplotlib inline\n",
    "import matplotlib.pyplot as plt\n",
    "import numpy as np\n",
    "\n",
    "import warnings\n",
    "warnings.filterwarnings('ignore')\n",
    "\n",
    "import torch\n",
    "\n",
    "print(f'PyTorch version= {torch.__version__}')\n",
    "print(f'CUDA available= {torch.cuda.is_available()}')"
   ]
  },
  {
   "cell_type": "code",
   "execution_count": 2,
   "metadata": {},
   "outputs": [
    {
     "name": "stdout",
     "output_type": "stream",
     "text": [
      "librosa version= 0.8.0\n"
     ]
    }
   ],
   "source": [
    "import os\n",
    "import sys\n",
    "\n",
    "from sklearn.ensemble import RandomForestClassifier\n",
    "from sklearn.metrics import accuracy_score\n",
    "from sklearn.model_selection import StratifiedKFold\n",
    "from sklearn.naive_bayes import GaussianNB\n",
    "from sklearn.preprocessing import StandardScaler\n",
    "from sklearn.svm import SVC\n",
    "\n",
    "import librosa\n",
    "import librosa.display\n",
    "\n",
    "print(f'librosa version= {librosa.__version__}')"
   ]
  },
  {
   "cell_type": "code",
   "execution_count": 3,
   "metadata": {},
   "outputs": [],
   "source": [
    "cwd = os.getcwd()\n",
    "path = cwd+'/cats_dogs/'\n",
    "M = 20\n",
    "K = 2\n",
    "SAMPLING_FRQ = 2000"
   ]
  },
  {
   "cell_type": "code",
   "execution_count": 4,
   "metadata": {},
   "outputs": [
    {
     "data": {
      "image/png": "[encoded data removed]",
      "text/plain": [
       "<Figure size 1008x216 with 2 Axes>"
      ]
     },
     "metadata": {
      "needs_background": "light"
     },
     "output_type": "display_data"
    },
    {
     "name": "stdout",
     "output_type": "stream",
     "text": [
      "#features, #data points= (20, 44)\n"
     ]
    }
   ],
   "source": [
    "x, fs = librosa.load(path +'cat_1.wav', sr=SAMPLING_FRQ)\n",
    "mfccs = librosa.feature.mfcc(x, sr=fs, n_mfcc=M)\n",
    "\n",
    "plt.figure(figsize=(14, 3))\n",
    "ax=plt.subplot(1, 2, 1)\n",
    "ax.plot(np.arange(len(x))/fs, x)\n",
    "ax.set_xlabel('Time (secs)')\n",
    "ax.set_ylabel('Volume')\n",
    "\n",
    "ax=plt.subplot(1, 2, 2)\n",
    "librosa.display.specshow(mfccs, sr=fs, x_axis='time', ax=ax)\n",
    "plt.show()\n",
    "print(f'#features, #data points= {mfccs.shape}')"
   ]
  },
  {
   "cell_type": "markdown",
   "metadata": {},
   "source": [
    "For each wav file, you will have multiple data points, as generated by the librosa.feature.mfcc. Generate the X and y matrices for supervised learning. Apply your favorite classifier and comment about your results. (Hint: Expect 80-90% 10-fold CV accuracy, and N, M = 7634, 20)"
   ]
  },
  {
   "cell_type": "code",
   "execution_count": 5,
   "metadata": {},
   "outputs": [
    {
     "name": "stdout",
     "output_type": "stream",
     "text": [
      "#Files = 277\n"
     ]
    }
   ],
   "source": [
    "Flist = [f for f in os.listdir(path) if f.lower().endswith('.wav')]\n",
    "print(f'#Files = {len(Flist)}')\n",
    "\n",
    "Sxx = []\n",
    "\n",
    "for fn in Flist:\n",
    "    x, fs = librosa.load(os.path.join(path, fn), sr=SAMPLING_FRQ)\n",
    "    mfccs = librosa.feature.mfcc(x, sr=fs, n_mfcc=M)\n",
    "    sxx = mfccs.T\n",
    "    ct = 'cat' if 'cat' in fn else 'dog'\n",
    "    Sxx += [(sxx, ct)]"
   ]
  },
  {
   "cell_type": "code",
   "execution_count": 6,
   "metadata": {},
   "outputs": [
    {
     "data": {
      "text/plain": [
       "'cat'"
      ]
     },
     "execution_count": 6,
     "metadata": {},
     "output_type": "execute_result"
    }
   ],
   "source": [
    "Sxx[0][1]"
   ]
  },
  {
   "cell_type": "code",
   "execution_count": 7,
   "metadata": {},
   "outputs": [
    {
     "name": "stdout",
     "output_type": "stream",
     "text": [
      "(7634, 20) (7634,)\n",
      "(array([0, 1]), array([5238, 2396]))\n"
     ]
    }
   ],
   "source": [
    "N = sum([sxx.shape[0] for (sxx, ct) in Sxx])\n",
    "\n",
    "X, y = np.zeros((N, M)), []\n",
    "\n",
    "i = 0\n",
    "for (sxx, ct) in Sxx:\n",
    "    n2 = sxx.shape[0]\n",
    "    for j in range(n2):\n",
    "        X[i+j,:] = sxx[j]\n",
    "    i += n2\n",
    "    y += [0] * n2 if ct == 'cat' else [1] * n2\n",
    "    \n",
    "y = np.array(y)\n",
    "\n",
    "print(X.shape, y.shape)\n",
    "\n",
    "print(np.unique(y, return_counts=True))"
   ]
  },
  {
   "cell_type": "code",
   "execution_count": 8,
   "metadata": {},
   "outputs": [],
   "source": [
    "X = StandardScaler().fit_transform(X)"
   ]
  },
  {
   "cell_type": "code",
   "execution_count": 9,
   "metadata": {},
   "outputs": [
    {
     "name": "stdout",
     "output_type": "stream",
     "text": [
      "Naive Bayes reclassification Acc= 0.78\n",
      "Random Forest reclassification Acc= 0.92\n",
      "RBF SVM reclassification Acc= 0.96\n",
      "CPU times: user 3.72 s, sys: 81.9 ms, total: 3.8 s\n",
      "Wall time: 2 s\n"
     ]
    }
   ],
   "source": [
    "%%time\n",
    "\n",
    "y_pred = GaussianNB().fit(X, y).predict(X)\n",
    "print(f'Naive Bayes reclassification Acc= {sum(y==y_pred)/N:.2f}')\n",
    "\n",
    "y_pred = RandomForestClassifier(n_estimators=200, max_depth=7, random_state=None, class_weight='balanced', n_jobs=4).fit(X, y).predict(X)\n",
    "print(f'Random Forest reclassification Acc= {sum(y==y_pred)/N:.2f}')\n",
    "\n",
    "y_pred = SVC(kernel=\"rbf\", class_weight=\"balanced\").fit(X, y).predict(X)\n",
    "print(f'RBF SVM reclassification Acc= {sum(y==y_pred)/N:.2f}')"
   ]
  },
  {
   "cell_type": "code",
   "execution_count": 10,
   "metadata": {},
   "outputs": [
    {
     "name": "stdout",
     "output_type": "stream",
     "text": [
      "Naive Bayes 10-fold CV Acc= 0.78±0.013\n",
      "Random Forest 10-fold CV Acc= 0.89±0.012\n",
      "Random Forest 10-fold CV Acc= 0.94±0.005\n",
      "CPU times: user 28.1 s, sys: 489 ms, total: 28.6 s\n",
      "Wall time: 13 s\n"
     ]
    }
   ],
   "source": [
    "%%time\n",
    "\n",
    "def eval_classifier(clf, X, y):\n",
    "    acc = []\n",
    "    kf = StratifiedKFold(n_splits=10, shuffle=True, random_state=None)\n",
    "    for train_index, test_index in kf.split(X, y):\n",
    "        clf.fit(X[train_index], y[train_index])\n",
    "        y_pred = clf.predict(X[test_index])\n",
    "        acc += [accuracy_score(y[test_index], y_pred)]\n",
    "    return np.array(acc)\n",
    "\n",
    "acc = eval_classifier(GaussianNB(), X, y)\n",
    "print(f'Naive Bayes 10-fold CV Acc= {np.mean(acc):.2f}{chr(177)}{np.std(acc):.3f}')\n",
    "\n",
    "acc = eval_classifier(RandomForestClassifier(n_estimators=200, max_depth=7, random_state=None, class_weight='balanced', n_jobs=4), X, y)\n",
    "print(f'Random Forest 10-fold CV Acc= {np.mean(acc):.2f}{chr(177)}{np.std(acc):.3f}')\n",
    "\n",
    "acc = eval_classifier(SVC(kernel=\"rbf\", class_weight=\"balanced\"), X, y)\n",
    "print(f'Random Forest 10-fold CV Acc= {np.mean(acc):.2f}{chr(177)}{np.std(acc):.3f}')"
   ]
  },
  {
   "cell_type": "markdown",
   "metadata": {},
   "source": [
    "Train a simple RNN, as given in the module Jupyter notebook, by shuffling the list of the signals (the dataset has 277) and training the network sufficiently (suggested 50 times) and compare its performance to your previous evaluation in step (2.). A prediction function is needed, such as,\n",
    "\n",
    "    with torch.no_grad():\n",
    "        hidden = rnn.init_hidden()\n",
    "        sxx = torch.tensor(sxx, dtype=torch.float)\n",
    "        for i in range(sxx.shape[0]):\n",
    "            output, hidden = rnn.forward(sxx[i].reshape(1,rnn.n_features), hidden) \n",
    "            y = 0 if ct=='cat' else 1\n",
    "            y_pred = 0 if output[0][0]>output[0][1] else 1\n",
    "            \n",
    "Note that the train method in the module RNN can train a single signal. An epoch can be the training of all the signals where every signal entails the hidden layer to be initialized and gradients being reset at the training start.\n",
    "\n",
    "To answer this question techniques learned office hours are used."
   ]
  },
  {
   "cell_type": "code",
   "execution_count": 11,
   "metadata": {},
   "outputs": [],
   "source": [
    "import torch.nn as nn\n",
    "import torch.optim as optim\n",
    "\n",
    "class RNN_1(nn.Module):\n",
    "    def __init__(self, n_features, n_hidden, n_output, eta=0.0005, weight=None, info=True):\n",
    "        super(RNN_1, self).__init__()\n",
    "\n",
    "        self.n_features = n_features\n",
    "        self.n_hidden = n_hidden\n",
    "        self.eta = eta\n",
    "        self.info = info\n",
    "        \n",
    "        self.i2h = nn.Linear(n_features + n_hidden, n_hidden)\n",
    "        self.i2o = nn.Linear(n_features + n_hidden, n_output)\n",
    "        self.softmax = nn.LogSoftmax(dim=1)\n",
    "        \n",
    "        self.criterion = nn.NLLLoss(weight=weight)\n",
    "        self.optimizer = optim.Adam(self.parameters(), lr=self.eta)\n",
    "\n",
    "    def forward(self, _x, hidden):\n",
    "        combined = torch.cat((_x, hidden), dim=1)\n",
    "        hidden = self.i2h(combined)\n",
    "        output = self.i2o(combined)\n",
    "        output = self.softmax(output)\n",
    "        return output, hidden\n",
    "\n",
    "    def init_hidden(self):\n",
    "        return torch.zeros(1, self.n_hidden)\n",
    "    \n",
    "    def train_signal(self, _sxx, _y):\n",
    "        hidden = self.init_hidden()\n",
    "        self.optimizer.zero_grad()\n",
    "        \n",
    "        for i in range(_sxx.shape[0]):\n",
    "            output, hidden = self.forward(_sxx[i].reshape(1, self.n_features), hidden)\n",
    "        \n",
    "        loss = self.criterion(output, _y)\n",
    "        loss.backward()\n",
    "        \n",
    "        self.optimizer.step()\n",
    "        \n",
    "        return output, loss.item()\n",
    "\n",
    "    def train(self, _Xy):\n",
    "        L, totloss = len(_Xy), 0\n",
    "        for i, (sxx, y) in enumerate(_Xy):\n",
    "            output, loss = self.train_signal(sxx, y)\n",
    "            totloss += loss\n",
    "            if self.info:\n",
    "                sys.stderr.write(f\"\\r{i+1:03d}/{L} | Loss: {loss: 6.2f} | \"\n",
    "                                f\"Avg loss: {totloss/(i+1):6.2f} | {y.data.tolist()[0]}\")\n",
    "                sys.stderr.flush()\n",
    "    \n",
    "    def predict(self, _sxx):\n",
    "        with torch.no_grad():\n",
    "            hidden = self.init_hidden()\n",
    "            for i in range(_sxx.shape[0]):\n",
    "                output, hidden = self.forward(_sxx[i].reshape(1, self.n_features), hidden)\n",
    "        return 1 if output[0][0] < output[0][1] else 0"
   ]
  },
  {
   "cell_type": "code",
   "execution_count": 12,
   "metadata": {},
   "outputs": [],
   "source": [
    "from random import shuffle\n",
    "\n",
    "def rnn_train(_rnn, _Xy_tr, nP=10):\n",
    "    for _ in range(nP):\n",
    "        shuffle(_Xy_tr)\n",
    "        _rnn.train(_Xy_tr)\n",
    "        \n",
    "def rnn_test(_rnn, _X_ts):\n",
    "    y_pred = []\n",
    "    for sxx in _X_ts:\n",
    "        y_pred += [_rnn.predict(sxx)]\n",
    "    return y_pred\n",
    "\n",
    "def reclassification(_rnn, _Xy, nP=10):\n",
    "    rnn_train(_rnn, _Xy, nP=nP)\n",
    "    y_pred = rnn_test(_rnn, [_[0] for _ in _Xy])\n",
    "    acc = np.sum(np.array(y_pred) == np.array([int(_[1].data[0]) for _ in _Xy])) / len(_Xy)\n",
    "    return acc"
   ]
  },
  {
   "cell_type": "code",
   "execution_count": 13,
   "metadata": {},
   "outputs": [],
   "source": [
    "WEIGHTS = torch.tensor([113/227, 164/277])\n",
    "\n",
    "Xy = [None]*len(Sxx)\n",
    "for i in range(len(Sxx)):\n",
    "    Xy[i] = (torch.tensor(Sxx[i][0], dtype=torch.float), \n",
    "            torch.tensor([0 if Sxx[i][1] == \"cat\" else 1], dtype=torch.int64)\n",
    "            )\n",
    "shuffle(Xy)"
   ]
  },
  {
   "cell_type": "code",
   "execution_count": 14,
   "metadata": {},
   "outputs": [
    {
     "data": {
      "text/plain": [
       "tensor([0])"
      ]
     },
     "execution_count": 14,
     "metadata": {},
     "output_type": "execute_result"
    }
   ],
   "source": [
    "torch.tensor([0], dtype=torch.int64)"
   ]
  },
  {
   "cell_type": "code",
   "execution_count": 15,
   "metadata": {},
   "outputs": [
    {
     "data": {
      "text/plain": [
       "(torch.Size([16, 20]), torch.Size([1]))"
      ]
     },
     "execution_count": 15,
     "metadata": {},
     "output_type": "execute_result"
    }
   ],
   "source": [
    "Xy[0][0].shape, Xy[0][1].shape"
   ]
  },
  {
   "cell_type": "code",
   "execution_count": 16,
   "metadata": {},
   "outputs": [
    {
     "data": {
      "text/plain": [
       "tensor([1])"
      ]
     },
     "execution_count": 16,
     "metadata": {},
     "output_type": "execute_result"
    }
   ],
   "source": [
    "Xy[0][1]"
   ]
  },
  {
   "cell_type": "code",
   "execution_count": 17,
   "metadata": {},
   "outputs": [
    {
     "name": "stderr",
     "output_type": "stream",
     "text": [
      "277/277 | Loss:   1.48 | Avg loss:   0.53 | 01"
     ]
    },
    {
     "name": "stdout",
     "output_type": "stream",
     "text": [
      "RNN reclassification Acc= 0.79 ±0.056\n",
      "CPU times: user 4min 13s, sys: 15.9 s, total: 4min 28s\n",
      "Wall time: 4min 25s\n"
     ]
    }
   ],
   "source": [
    "%%time\n",
    "\n",
    "Acc = []\n",
    "for i in range(10):\n",
    "    rnn1 = RNN_1(M, 1, K, eta=0.001, weight=WEIGHTS, info=True)\n",
    "    Acc += [reclassification(rnn1, Xy, nP=20)]\n",
    "    \n",
    "print(f'RNN reclassification Acc= {np.mean(Acc):.2f} {chr(177)}{np.std(Acc):.3f}')"
   ]
  },
  {
   "cell_type": "code",
   "execution_count": 18,
   "metadata": {},
   "outputs": [
    {
     "name": "stderr",
     "output_type": "stream",
     "text": [
      "277/277 | Loss:   0.00 | Avg loss:   0.58 | 00"
     ]
    },
    {
     "name": "stdout",
     "output_type": "stream",
     "text": [
      "RNN reclassification Acc= 0.83 ±0.033\n",
      "CPU times: user 4min 13s, sys: 16.2 s, total: 4min 29s\n",
      "Wall time: 4min 26s\n"
     ]
    }
   ],
   "source": [
    "%%time\n",
    "\n",
    "Acc = []\n",
    "for i in range(10):\n",
    "    rnn2 = RNN_1(M, 20, K, eta=0.001, weight=WEIGHTS, info=True)\n",
    "    Acc += [reclassification(rnn2, Xy, nP=20)]\n",
    "    \n",
    "print(f'RNN reclassification Acc= {np.mean(Acc):.2f} {chr(177)}{np.std(Acc):.3f}')"
   ]
  },
  {
   "cell_type": "markdown",
   "metadata": {},
   "source": [
    "In comparison here we find that n_hidden = 20 performed better than 1. "
   ]
  },
  {
   "cell_type": "code",
   "execution_count": 19,
   "metadata": {},
   "outputs": [
    {
     "name": "stderr",
     "output_type": "stream",
     "text": [
      "264/264 | Loss:   0.76 | Avg loss:   0.46 | 1"
     ]
    },
    {
     "name": "stdout",
     "output_type": "stream",
     "text": [
      "RNN 10-fold CV Acc= 0.00 ±0.000\n",
      "CPU times: user 7min 57s, sys: 31.1 s, total: 8min 28s\n",
      "Wall time: 8min 22s\n"
     ]
    }
   ],
   "source": [
    "%%time\n",
    "\n",
    "from sklearn.model_selection import KFold\n",
    "\n",
    "Acc = []\n",
    "kf = KFold(n_splits=20)\n",
    "\n",
    "for tr_ix, ts_ix in kf.split(np.arange(len(Xy))):\n",
    "    \n",
    "    rnn3 = RNN_1(M, 20, K, eta=0.001, weight=WEIGHTS, info=True)\n",
    "    \n",
    "    rnn_train(rnn3, [Xy[_] for _ in tr_ix], nP=20)\n",
    "    \n",
    "    y_pred = rnn_test(rnn3, [Xy[_][0] for _ in tr_ix])\n",
    "    \n",
    "    Acc += [np.sum(np.array(y_pred) == np.array([int(Xy[_][1].data[0]) for _ in ts_ix])) / len(y_pred)]\n",
    "    \n",
    "print(f'RNN 10-fold CV Acc= {np.mean(Acc):.2f} {chr(177)}{np.std(Acc):.3f}')"
   ]
  },
  {
   "cell_type": "code",
   "execution_count": 20,
   "metadata": {},
   "outputs": [
    {
     "name": "stdout",
     "output_type": "stream",
     "text": [
      "RNN_2(\n",
      "  (rnn): RNN(20, 20, num_layers=2)\n",
      "  (outlayer): Linear(in_features=20, out_features=2, bias=True)\n",
      "  (softmax): LogSoftmax(dim=1)\n",
      "  (criterion): NLLLoss()\n",
      ")\n"
     ]
    }
   ],
   "source": [
    "from torch.autograd import Variable\n",
    "\n",
    "class RNN_2(nn.Module):\n",
    "    def __init__(self, n_features, n_hidden, n_output, n_hid_layers, eta=0.0005, weight=None, info=True):\n",
    "        super(RNN_2, self).__init__()\n",
    "\n",
    "        self.n_features = n_features\n",
    "        self.n_hidden = n_hidden\n",
    "        self.n_hid_layers = n_hid_layers\n",
    "        self.eta = eta\n",
    "        self.info = info\n",
    "        \n",
    "        self.rnn = nn.RNN(n_features, n_hidden, n_hid_layers, batch_first=False, nonlinearity=\"tanh\")\n",
    "        \n",
    "        self.outlayer = nn.Linear(n_hidden, n_output)\n",
    "        \n",
    "        self.softmax = nn.LogSoftmax(dim=1)\n",
    "        \n",
    "        self.criterion = nn.NLLLoss(weight=weight)\n",
    "        self.optimizer = optim.Adam(self.parameters(), lr=self.eta)\n",
    "\n",
    "    def forward(self, _x, _h):\n",
    "        output, hidden = self.rnn(_x, _h)\n",
    "        output = self.outlayer(output[-1, :])\n",
    "        output = self.softmax(output)\n",
    "        return output, hidden\n",
    "\n",
    "    def init_hidden(self):\n",
    "        return torch.zeros(self.n_hid_layers, 1, self.n_hidden)\n",
    "    \n",
    "    def train_signal(self, _sxx, _y):\n",
    "        hidden = self.init_hidden()\n",
    "        self.optimizer.zero_grad()\n",
    "        \n",
    "        for i in range(_sxx.shape[0]):\n",
    "            output, hidden = self.forward(_sxx[i].reshape(1, 1, self.n_features), hidden)\n",
    "        \n",
    "        loss = self.criterion(output, _y)\n",
    "        loss.backward()\n",
    "        \n",
    "        self.optimizer.step()\n",
    "        \n",
    "        return output, loss.item()\n",
    "\n",
    "    def train(self, _Xy):\n",
    "        L, totloss = len(_Xy), 0\n",
    "        for i, (sxx, y) in enumerate(_Xy):\n",
    "            output, loss = self.train_signal(sxx, y)\n",
    "            totloss += loss\n",
    "            if self.info:\n",
    "                sys.stderr.write(f\"\\r{i+1:03d}/{L} | Loss: {loss: 6.2f} | \"\n",
    "                                f\"Avg loss: {totloss/(i+1):6.2f} | {y.data.tolist()[0]}\")\n",
    "                sys.stderr.flush()\n",
    "    \n",
    "    def predict(self, _sxx):\n",
    "        with torch.no_grad():\n",
    "            hidden = self.init_hidden()\n",
    "            for i in range(_sxx.shape[0]):\n",
    "                output, hidden = self.forward(_sxx[i].reshape(1, 1, self.n_features), hidden)\n",
    "        return 1 if output[0][0] < output[0][1] else 0\n",
    "    \n",
    "\n",
    "rnn_2 = RNN_2(M, 20, K, 2, eta=0.001, weight=WEIGHTS)\n",
    "\n",
    "print(rnn_2)"
   ]
  },
  {
   "cell_type": "code",
   "execution_count": 21,
   "metadata": {},
   "outputs": [
    {
     "name": "stderr",
     "output_type": "stream",
     "text": [
      "277/277 | Loss:   0.00 | Avg loss:   0.26 | 0"
     ]
    },
    {
     "name": "stdout",
     "output_type": "stream",
     "text": [
      "PyTorch 1-layer RNN reclassification Acc= 0.91 ±0.010\n",
      "CPU times: user 7min 31s, sys: 17.2 s, total: 7min 48s\n",
      "Wall time: 7min 39s\n"
     ]
    }
   ],
   "source": [
    "%%time\n",
    "\n",
    "Acc = []\n",
    "for i in range(10):\n",
    "    rnn3 = RNN_2(M, 20, K, 1, eta=0.002, weight=WEIGHTS, info=True)\n",
    "    Acc += [reclassification(rnn3, Xy, nP=20)]\n",
    "    \n",
    "print(f'PyTorch 1-layer RNN reclassification Acc= {np.mean(Acc):.2f} {chr(177)}{np.std(Acc):.3f}')"
   ]
  },
  {
   "cell_type": "code",
   "execution_count": 22,
   "metadata": {},
   "outputs": [
    {
     "name": "stderr",
     "output_type": "stream",
     "text": [
      "250/250 | Loss:   0.02 | Avg loss:   0.25 | 0"
     ]
    },
    {
     "name": "stdout",
     "output_type": "stream",
     "text": [
      "PyTorch 1-layer RNN 10-fold CV Acc= 0.00 ±0.000\n",
      "CPU times: user 6min 58s, sys: 15.6 s, total: 7min 13s\n",
      "Wall time: 7min 5s\n"
     ]
    }
   ],
   "source": [
    "%%time\n",
    "\n",
    "Acc = []\n",
    "kf = KFold(n_splits=10)\n",
    "\n",
    "for tr_ix, ts_ix in kf.split(np.arange(len(Xy))):\n",
    "    \n",
    "    rnn4 = RNN_2(M, 20, K, 1, eta=0.002, weight=WEIGHTS, info=True)\n",
    "    \n",
    "    rnn_train(rnn4, [Xy[_] for _ in tr_ix], nP=20)\n",
    "    \n",
    "    y_pred = rnn_test(rnn4, [Xy[_][0] for _ in tr_ix])\n",
    "    \n",
    "    Acc += [np.sum(np.array(y_pred) == np.array([int(Xy[_][1].data[0]) for _ in ts_ix])) / len(y_pred)]\n",
    "    \n",
    "print(f'PyTorch 1-layer RNN 10-fold CV Acc= {np.mean(Acc):.2f} {chr(177)}{np.std(Acc):.3f}')"
   ]
  },
  {
   "cell_type": "markdown",
   "metadata": {},
   "source": [
    "The RNN overall is a bit slow - at least on this computer, however research indicates that it does take a long time to converge depending on the usage. Performance varies depending on the parameters provided. For instance, in RNN_1 when n_hidden = 1, we had worse performace than when n_hidden = 20. Note that when we used pytorch accuracy was much higher!"
   ]
  },
  {
   "cell_type": "markdown",
   "metadata": {},
   "source": [
    "Compare and contrast the method applied in this assignment to the image classification."
   ]
  },
  {
   "cell_type": "markdown",
   "metadata": {},
   "source": [
    "PyTorch is a Deep Learning framework is widely being used by deep learning practitioners. PyTorch is available as a Python package, which provides Tensor computations. Tensors are multidimensional arrays. These arrays are similar to numpy's ndarrays which can run on GPU as well. However, on this computer CUDA is not available, and neither is the GPU powerful enough to support operations.\n",
    "\n",
    "We used RNN in this assignment with the help of PyTorch. In image classification we used MNIST dataset to classify, and we used neural network to classify images. Neural network is the basic idea for image classification whereas RNN and PyTorch are more of a deep learning techniques and are more robust that a simple neural network. "
   ]
  }
 ],
 "metadata": {
  "kernelspec": {
   "display_name": "Python 3",
   "language": "python",
   "name": "python3"
  },
  "language_info": {
   "codemirror_mode": {
    "name": "ipython",
    "version": 3
   },
   "file_extension": ".py",
   "mimetype": "text/x-python",
   "name": "python",
   "nbconvert_exporter": "python",
   "pygments_lexer": "ipython3",
   "version": "3.8.5"
  }
 },
 "nbformat": 4,
 "nbformat_minor": 4
}
