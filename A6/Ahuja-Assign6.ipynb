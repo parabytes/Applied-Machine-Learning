{
 "cells": [
  {
   "cell_type": "markdown",
   "metadata": {},
   "source": [
    "# Assigment 6 | Applied Machine Learning | Paras Ahuja"
   ]
  },
  {
   "cell_type": "markdown",
   "metadata": {},
   "source": [
    "----\n",
    "\n",
    "**Note: I will preprocess the data here to make sure it is in format that works for this assignment. I will not go into too much detail or comment on preprocessing the data because we have already covered this in assignment 3; I am simply copying and pasting some of the preprocessing code from assignment 3.**\n",
    "\n",
    "----"
   ]
  },
  {
   "cell_type": "code",
   "execution_count": 1,
   "metadata": {},
   "outputs": [],
   "source": [
    "import pandas as pd\n",
    "import numpy as np\n",
    "import seaborn as sns\n",
    "import matplotlib.pyplot as plt\n",
    "import math\n",
    "from scipy import stats\n",
    "from scipy import mean"
   ]
  },
  {
   "cell_type": "markdown",
   "metadata": {},
   "source": [
    "### Preprocess"
   ]
  },
  {
   "cell_type": "code",
   "execution_count": 2,
   "metadata": {},
   "outputs": [
    {
     "data": {
      "text/html": [
       "<div>\n",
       "<style scoped>\n",
       "    .dataframe tbody tr th:only-of-type {\n",
       "        vertical-align: middle;\n",
       "    }\n",
       "\n",
       "    .dataframe tbody tr th {\n",
       "        vertical-align: top;\n",
       "    }\n",
       "\n",
       "    .dataframe thead th {\n",
       "        text-align: right;\n",
       "    }\n",
       "</style>\n",
       "<table border=\"1\" class=\"dataframe\">\n",
       "  <thead>\n",
       "    <tr style=\"text-align: right;\">\n",
       "      <th></th>\n",
       "      <th>country</th>\n",
       "      <th>year</th>\n",
       "      <th>sex</th>\n",
       "      <th>age</th>\n",
       "      <th>suicides_no</th>\n",
       "      <th>population</th>\n",
       "      <th>suicides/100k pop</th>\n",
       "      <th>country-year</th>\n",
       "      <th>HDI for year</th>\n",
       "      <th>gdp_for_year ($)</th>\n",
       "      <th>gdp_per_capita ($)</th>\n",
       "      <th>generation</th>\n",
       "    </tr>\n",
       "  </thead>\n",
       "  <tbody>\n",
       "    <tr>\n",
       "      <th>0</th>\n",
       "      <td>Albania</td>\n",
       "      <td>1987</td>\n",
       "      <td>male</td>\n",
       "      <td>15-24 years</td>\n",
       "      <td>21</td>\n",
       "      <td>312900</td>\n",
       "      <td>6.71</td>\n",
       "      <td>Albania1987</td>\n",
       "      <td>NaN</td>\n",
       "      <td>2,156,624,900</td>\n",
       "      <td>796</td>\n",
       "      <td>Generation X</td>\n",
       "    </tr>\n",
       "    <tr>\n",
       "      <th>1</th>\n",
       "      <td>Albania</td>\n",
       "      <td>1987</td>\n",
       "      <td>male</td>\n",
       "      <td>35-54 years</td>\n",
       "      <td>16</td>\n",
       "      <td>308000</td>\n",
       "      <td>5.19</td>\n",
       "      <td>Albania1987</td>\n",
       "      <td>NaN</td>\n",
       "      <td>2,156,624,900</td>\n",
       "      <td>796</td>\n",
       "      <td>Silent</td>\n",
       "    </tr>\n",
       "    <tr>\n",
       "      <th>2</th>\n",
       "      <td>Albania</td>\n",
       "      <td>1987</td>\n",
       "      <td>female</td>\n",
       "      <td>15-24 years</td>\n",
       "      <td>14</td>\n",
       "      <td>289700</td>\n",
       "      <td>4.83</td>\n",
       "      <td>Albania1987</td>\n",
       "      <td>NaN</td>\n",
       "      <td>2,156,624,900</td>\n",
       "      <td>796</td>\n",
       "      <td>Generation X</td>\n",
       "    </tr>\n",
       "    <tr>\n",
       "      <th>3</th>\n",
       "      <td>Albania</td>\n",
       "      <td>1987</td>\n",
       "      <td>male</td>\n",
       "      <td>75+ years</td>\n",
       "      <td>1</td>\n",
       "      <td>21800</td>\n",
       "      <td>4.59</td>\n",
       "      <td>Albania1987</td>\n",
       "      <td>NaN</td>\n",
       "      <td>2,156,624,900</td>\n",
       "      <td>796</td>\n",
       "      <td>G.I. Generation</td>\n",
       "    </tr>\n",
       "    <tr>\n",
       "      <th>4</th>\n",
       "      <td>Albania</td>\n",
       "      <td>1987</td>\n",
       "      <td>male</td>\n",
       "      <td>25-34 years</td>\n",
       "      <td>9</td>\n",
       "      <td>274300</td>\n",
       "      <td>3.28</td>\n",
       "      <td>Albania1987</td>\n",
       "      <td>NaN</td>\n",
       "      <td>2,156,624,900</td>\n",
       "      <td>796</td>\n",
       "      <td>Boomers</td>\n",
       "    </tr>\n",
       "  </tbody>\n",
       "</table>\n",
       "</div>"
      ],
      "text/plain": [
       "   country  year     sex          age  suicides_no  population  \\\n",
       "0  Albania  1987    male  15-24 years           21      312900   \n",
       "1  Albania  1987    male  35-54 years           16      308000   \n",
       "2  Albania  1987  female  15-24 years           14      289700   \n",
       "3  Albania  1987    male    75+ years            1       21800   \n",
       "4  Albania  1987    male  25-34 years            9      274300   \n",
       "\n",
       "   suicides/100k pop country-year  HDI for year  gdp_for_year ($)   \\\n",
       "0               6.71  Albania1987           NaN      2,156,624,900   \n",
       "1               5.19  Albania1987           NaN      2,156,624,900   \n",
       "2               4.83  Albania1987           NaN      2,156,624,900   \n",
       "3               4.59  Albania1987           NaN      2,156,624,900   \n",
       "4               3.28  Albania1987           NaN      2,156,624,900   \n",
       "\n",
       "   gdp_per_capita ($)       generation  \n",
       "0                 796     Generation X  \n",
       "1                 796           Silent  \n",
       "2                 796     Generation X  \n",
       "3                 796  G.I. Generation  \n",
       "4                 796          Boomers  "
      ]
     },
     "execution_count": 2,
     "metadata": {},
     "output_type": "execute_result"
    }
   ],
   "source": [
    "df = pd.read_csv('master.csv')\n",
    "df.head()"
   ]
  },
  {
   "cell_type": "code",
   "execution_count": 3,
   "metadata": {},
   "outputs": [
    {
     "data": {
      "text/html": [
       "<div>\n",
       "<style scoped>\n",
       "    .dataframe tbody tr th:only-of-type {\n",
       "        vertical-align: middle;\n",
       "    }\n",
       "\n",
       "    .dataframe tbody tr th {\n",
       "        vertical-align: top;\n",
       "    }\n",
       "\n",
       "    .dataframe thead th {\n",
       "        text-align: right;\n",
       "    }\n",
       "</style>\n",
       "<table border=\"1\" class=\"dataframe\">\n",
       "  <thead>\n",
       "    <tr style=\"text-align: right;\">\n",
       "      <th></th>\n",
       "      <th>country</th>\n",
       "      <th>year</th>\n",
       "      <th>sex</th>\n",
       "      <th>age</th>\n",
       "      <th>suicides_no</th>\n",
       "      <th>population</th>\n",
       "      <th>suicides/100k pop</th>\n",
       "      <th>country-year</th>\n",
       "      <th>HDI for year</th>\n",
       "      <th>gdp_for_year</th>\n",
       "      <th>gdp_per_capita</th>\n",
       "      <th>generation</th>\n",
       "    </tr>\n",
       "  </thead>\n",
       "  <tbody>\n",
       "    <tr>\n",
       "      <th>0</th>\n",
       "      <td>Albania</td>\n",
       "      <td>1987</td>\n",
       "      <td>male</td>\n",
       "      <td>15-24 years</td>\n",
       "      <td>21</td>\n",
       "      <td>312900</td>\n",
       "      <td>6.71</td>\n",
       "      <td>Albania1987</td>\n",
       "      <td>NaN</td>\n",
       "      <td>2,156,624,900</td>\n",
       "      <td>796</td>\n",
       "      <td>Generation X</td>\n",
       "    </tr>\n",
       "    <tr>\n",
       "      <th>1</th>\n",
       "      <td>Albania</td>\n",
       "      <td>1987</td>\n",
       "      <td>male</td>\n",
       "      <td>35-54 years</td>\n",
       "      <td>16</td>\n",
       "      <td>308000</td>\n",
       "      <td>5.19</td>\n",
       "      <td>Albania1987</td>\n",
       "      <td>NaN</td>\n",
       "      <td>2,156,624,900</td>\n",
       "      <td>796</td>\n",
       "      <td>Silent</td>\n",
       "    </tr>\n",
       "    <tr>\n",
       "      <th>2</th>\n",
       "      <td>Albania</td>\n",
       "      <td>1987</td>\n",
       "      <td>female</td>\n",
       "      <td>15-24 years</td>\n",
       "      <td>14</td>\n",
       "      <td>289700</td>\n",
       "      <td>4.83</td>\n",
       "      <td>Albania1987</td>\n",
       "      <td>NaN</td>\n",
       "      <td>2,156,624,900</td>\n",
       "      <td>796</td>\n",
       "      <td>Generation X</td>\n",
       "    </tr>\n",
       "    <tr>\n",
       "      <th>3</th>\n",
       "      <td>Albania</td>\n",
       "      <td>1987</td>\n",
       "      <td>male</td>\n",
       "      <td>75+ years</td>\n",
       "      <td>1</td>\n",
       "      <td>21800</td>\n",
       "      <td>4.59</td>\n",
       "      <td>Albania1987</td>\n",
       "      <td>NaN</td>\n",
       "      <td>2,156,624,900</td>\n",
       "      <td>796</td>\n",
       "      <td>G.I. Generation</td>\n",
       "    </tr>\n",
       "    <tr>\n",
       "      <th>4</th>\n",
       "      <td>Albania</td>\n",
       "      <td>1987</td>\n",
       "      <td>male</td>\n",
       "      <td>25-34 years</td>\n",
       "      <td>9</td>\n",
       "      <td>274300</td>\n",
       "      <td>3.28</td>\n",
       "      <td>Albania1987</td>\n",
       "      <td>NaN</td>\n",
       "      <td>2,156,624,900</td>\n",
       "      <td>796</td>\n",
       "      <td>Boomers</td>\n",
       "    </tr>\n",
       "  </tbody>\n",
       "</table>\n",
       "</div>"
      ],
      "text/plain": [
       "   country  year     sex          age  suicides_no  population  \\\n",
       "0  Albania  1987    male  15-24 years           21      312900   \n",
       "1  Albania  1987    male  35-54 years           16      308000   \n",
       "2  Albania  1987  female  15-24 years           14      289700   \n",
       "3  Albania  1987    male    75+ years            1       21800   \n",
       "4  Albania  1987    male  25-34 years            9      274300   \n",
       "\n",
       "   suicides/100k pop country-year  HDI for year   gdp_for_year  \\\n",
       "0               6.71  Albania1987           NaN  2,156,624,900   \n",
       "1               5.19  Albania1987           NaN  2,156,624,900   \n",
       "2               4.83  Albania1987           NaN  2,156,624,900   \n",
       "3               4.59  Albania1987           NaN  2,156,624,900   \n",
       "4               3.28  Albania1987           NaN  2,156,624,900   \n",
       "\n",
       "   gdp_per_capita       generation  \n",
       "0             796     Generation X  \n",
       "1             796           Silent  \n",
       "2             796     Generation X  \n",
       "3             796  G.I. Generation  \n",
       "4             796          Boomers  "
      ]
     },
     "execution_count": 3,
     "metadata": {},
     "output_type": "execute_result"
    }
   ],
   "source": [
    "df.rename(columns={\" gdp_for_year ($) \": \"gdp_for_year\", \"gdp_per_capita ($)\": \"gdp_per_capita\"}, inplace=True)\n",
    "df.head()"
   ]
  },
  {
   "cell_type": "code",
   "execution_count": 4,
   "metadata": {},
   "outputs": [
    {
     "data": {
      "text/html": [
       "<div>\n",
       "<style scoped>\n",
       "    .dataframe tbody tr th:only-of-type {\n",
       "        vertical-align: middle;\n",
       "    }\n",
       "\n",
       "    .dataframe tbody tr th {\n",
       "        vertical-align: top;\n",
       "    }\n",
       "\n",
       "    .dataframe thead th {\n",
       "        text-align: right;\n",
       "    }\n",
       "</style>\n",
       "<table border=\"1\" class=\"dataframe\">\n",
       "  <thead>\n",
       "    <tr style=\"text-align: right;\">\n",
       "      <th></th>\n",
       "      <th>country</th>\n",
       "      <th>year</th>\n",
       "      <th>sex</th>\n",
       "      <th>age</th>\n",
       "      <th>suicides_no</th>\n",
       "      <th>population</th>\n",
       "      <th>suicides/100k pop</th>\n",
       "      <th>gdp_for_year</th>\n",
       "      <th>gdp_per_capita</th>\n",
       "      <th>generation</th>\n",
       "    </tr>\n",
       "  </thead>\n",
       "  <tbody>\n",
       "    <tr>\n",
       "      <th>0</th>\n",
       "      <td>Albania</td>\n",
       "      <td>1987</td>\n",
       "      <td>male</td>\n",
       "      <td>15-24 years</td>\n",
       "      <td>21</td>\n",
       "      <td>312900</td>\n",
       "      <td>6.71</td>\n",
       "      <td>2,156,624,900</td>\n",
       "      <td>796</td>\n",
       "      <td>Generation X</td>\n",
       "    </tr>\n",
       "    <tr>\n",
       "      <th>1</th>\n",
       "      <td>Albania</td>\n",
       "      <td>1987</td>\n",
       "      <td>male</td>\n",
       "      <td>35-54 years</td>\n",
       "      <td>16</td>\n",
       "      <td>308000</td>\n",
       "      <td>5.19</td>\n",
       "      <td>2,156,624,900</td>\n",
       "      <td>796</td>\n",
       "      <td>Silent</td>\n",
       "    </tr>\n",
       "    <tr>\n",
       "      <th>2</th>\n",
       "      <td>Albania</td>\n",
       "      <td>1987</td>\n",
       "      <td>female</td>\n",
       "      <td>15-24 years</td>\n",
       "      <td>14</td>\n",
       "      <td>289700</td>\n",
       "      <td>4.83</td>\n",
       "      <td>2,156,624,900</td>\n",
       "      <td>796</td>\n",
       "      <td>Generation X</td>\n",
       "    </tr>\n",
       "    <tr>\n",
       "      <th>3</th>\n",
       "      <td>Albania</td>\n",
       "      <td>1987</td>\n",
       "      <td>male</td>\n",
       "      <td>75+ years</td>\n",
       "      <td>1</td>\n",
       "      <td>21800</td>\n",
       "      <td>4.59</td>\n",
       "      <td>2,156,624,900</td>\n",
       "      <td>796</td>\n",
       "      <td>G.I. Generation</td>\n",
       "    </tr>\n",
       "    <tr>\n",
       "      <th>4</th>\n",
       "      <td>Albania</td>\n",
       "      <td>1987</td>\n",
       "      <td>male</td>\n",
       "      <td>25-34 years</td>\n",
       "      <td>9</td>\n",
       "      <td>274300</td>\n",
       "      <td>3.28</td>\n",
       "      <td>2,156,624,900</td>\n",
       "      <td>796</td>\n",
       "      <td>Boomers</td>\n",
       "    </tr>\n",
       "  </tbody>\n",
       "</table>\n",
       "</div>"
      ],
      "text/plain": [
       "   country  year     sex          age  suicides_no  population  \\\n",
       "0  Albania  1987    male  15-24 years           21      312900   \n",
       "1  Albania  1987    male  35-54 years           16      308000   \n",
       "2  Albania  1987  female  15-24 years           14      289700   \n",
       "3  Albania  1987    male    75+ years            1       21800   \n",
       "4  Albania  1987    male  25-34 years            9      274300   \n",
       "\n",
       "   suicides/100k pop   gdp_for_year  gdp_per_capita       generation  \n",
       "0               6.71  2,156,624,900             796     Generation X  \n",
       "1               5.19  2,156,624,900             796           Silent  \n",
       "2               4.83  2,156,624,900             796     Generation X  \n",
       "3               4.59  2,156,624,900             796  G.I. Generation  \n",
       "4               3.28  2,156,624,900             796          Boomers  "
      ]
     },
     "execution_count": 4,
     "metadata": {},
     "output_type": "execute_result"
    }
   ],
   "source": [
    "df = df.drop(columns=[\"HDI for year\", \"country-year\"])\n",
    "df.head()"
   ]
  },
  {
   "cell_type": "code",
   "execution_count": 5,
   "metadata": {},
   "outputs": [
    {
     "data": {
      "text/html": [
       "<div>\n",
       "<style scoped>\n",
       "    .dataframe tbody tr th:only-of-type {\n",
       "        vertical-align: middle;\n",
       "    }\n",
       "\n",
       "    .dataframe tbody tr th {\n",
       "        vertical-align: top;\n",
       "    }\n",
       "\n",
       "    .dataframe thead th {\n",
       "        text-align: right;\n",
       "    }\n",
       "</style>\n",
       "<table border=\"1\" class=\"dataframe\">\n",
       "  <thead>\n",
       "    <tr style=\"text-align: right;\">\n",
       "      <th></th>\n",
       "      <th>country</th>\n",
       "      <th>year</th>\n",
       "      <th>sex</th>\n",
       "      <th>age</th>\n",
       "      <th>suicides_no</th>\n",
       "      <th>population</th>\n",
       "      <th>suicides/100k pop</th>\n",
       "      <th>gdp_for_year</th>\n",
       "      <th>gdp_per_capita</th>\n",
       "      <th>generation</th>\n",
       "    </tr>\n",
       "  </thead>\n",
       "  <tbody>\n",
       "    <tr>\n",
       "      <th>0</th>\n",
       "      <td>Albania</td>\n",
       "      <td>1987</td>\n",
       "      <td>1</td>\n",
       "      <td>20</td>\n",
       "      <td>21</td>\n",
       "      <td>312900</td>\n",
       "      <td>6.71</td>\n",
       "      <td>2,156,624,900</td>\n",
       "      <td>796</td>\n",
       "      <td>4</td>\n",
       "    </tr>\n",
       "    <tr>\n",
       "      <th>1</th>\n",
       "      <td>Albania</td>\n",
       "      <td>1987</td>\n",
       "      <td>1</td>\n",
       "      <td>45</td>\n",
       "      <td>16</td>\n",
       "      <td>308000</td>\n",
       "      <td>5.19</td>\n",
       "      <td>2,156,624,900</td>\n",
       "      <td>796</td>\n",
       "      <td>2</td>\n",
       "    </tr>\n",
       "    <tr>\n",
       "      <th>2</th>\n",
       "      <td>Albania</td>\n",
       "      <td>1987</td>\n",
       "      <td>0</td>\n",
       "      <td>20</td>\n",
       "      <td>14</td>\n",
       "      <td>289700</td>\n",
       "      <td>4.83</td>\n",
       "      <td>2,156,624,900</td>\n",
       "      <td>796</td>\n",
       "      <td>4</td>\n",
       "    </tr>\n",
       "    <tr>\n",
       "      <th>3</th>\n",
       "      <td>Albania</td>\n",
       "      <td>1987</td>\n",
       "      <td>1</td>\n",
       "      <td>80</td>\n",
       "      <td>1</td>\n",
       "      <td>21800</td>\n",
       "      <td>4.59</td>\n",
       "      <td>2,156,624,900</td>\n",
       "      <td>796</td>\n",
       "      <td>1</td>\n",
       "    </tr>\n",
       "    <tr>\n",
       "      <th>4</th>\n",
       "      <td>Albania</td>\n",
       "      <td>1987</td>\n",
       "      <td>1</td>\n",
       "      <td>30</td>\n",
       "      <td>9</td>\n",
       "      <td>274300</td>\n",
       "      <td>3.28</td>\n",
       "      <td>2,156,624,900</td>\n",
       "      <td>796</td>\n",
       "      <td>3</td>\n",
       "    </tr>\n",
       "  </tbody>\n",
       "</table>\n",
       "</div>"
      ],
      "text/plain": [
       "   country  year  sex  age  suicides_no  population  suicides/100k pop  \\\n",
       "0  Albania  1987    1   20           21      312900               6.71   \n",
       "1  Albania  1987    1   45           16      308000               5.19   \n",
       "2  Albania  1987    0   20           14      289700               4.83   \n",
       "3  Albania  1987    1   80            1       21800               4.59   \n",
       "4  Albania  1987    1   30            9      274300               3.28   \n",
       "\n",
       "    gdp_for_year  gdp_per_capita  generation  \n",
       "0  2,156,624,900             796           4  \n",
       "1  2,156,624,900             796           2  \n",
       "2  2,156,624,900             796           4  \n",
       "3  2,156,624,900             796           1  \n",
       "4  2,156,624,900             796           3  "
      ]
     },
     "execution_count": 5,
     "metadata": {},
     "output_type": "execute_result"
    }
   ],
   "source": [
    "df['sex'] = df['sex'].replace({'female':0, 'male':1})\n",
    "df['age'] = df['age'].replace({'5-14 years':10, '15-24 years':20, '25-34 years':30, '35-54 years':45, '55-74 years':65, '75+ years':80})\n",
    "df['generation'] = df['generation'].replace({'G.I. Generation':1, 'Silent':2, 'Boomers':3, 'Generation X':4, 'Millenials':5, 'Generation Z':6})\n",
    "df.head()"
   ]
  },
  {
   "cell_type": "code",
   "execution_count": 6,
   "metadata": {},
   "outputs": [
    {
     "data": {
      "text/html": [
       "<div>\n",
       "<style scoped>\n",
       "    .dataframe tbody tr th:only-of-type {\n",
       "        vertical-align: middle;\n",
       "    }\n",
       "\n",
       "    .dataframe tbody tr th {\n",
       "        vertical-align: top;\n",
       "    }\n",
       "\n",
       "    .dataframe thead th {\n",
       "        text-align: right;\n",
       "    }\n",
       "</style>\n",
       "<table border=\"1\" class=\"dataframe\">\n",
       "  <thead>\n",
       "    <tr style=\"text-align: right;\">\n",
       "      <th></th>\n",
       "      <th>country</th>\n",
       "      <th>year</th>\n",
       "      <th>sex</th>\n",
       "      <th>age</th>\n",
       "      <th>suicides_no</th>\n",
       "      <th>population</th>\n",
       "      <th>suicides/100k pop</th>\n",
       "      <th>gdp_per_capita</th>\n",
       "      <th>generation</th>\n",
       "    </tr>\n",
       "  </thead>\n",
       "  <tbody>\n",
       "    <tr>\n",
       "      <th>0</th>\n",
       "      <td>Albania</td>\n",
       "      <td>1987</td>\n",
       "      <td>1</td>\n",
       "      <td>20</td>\n",
       "      <td>21</td>\n",
       "      <td>312900</td>\n",
       "      <td>6.71</td>\n",
       "      <td>796</td>\n",
       "      <td>4</td>\n",
       "    </tr>\n",
       "    <tr>\n",
       "      <th>1</th>\n",
       "      <td>Albania</td>\n",
       "      <td>1987</td>\n",
       "      <td>1</td>\n",
       "      <td>45</td>\n",
       "      <td>16</td>\n",
       "      <td>308000</td>\n",
       "      <td>5.19</td>\n",
       "      <td>796</td>\n",
       "      <td>2</td>\n",
       "    </tr>\n",
       "    <tr>\n",
       "      <th>2</th>\n",
       "      <td>Albania</td>\n",
       "      <td>1987</td>\n",
       "      <td>0</td>\n",
       "      <td>20</td>\n",
       "      <td>14</td>\n",
       "      <td>289700</td>\n",
       "      <td>4.83</td>\n",
       "      <td>796</td>\n",
       "      <td>4</td>\n",
       "    </tr>\n",
       "    <tr>\n",
       "      <th>3</th>\n",
       "      <td>Albania</td>\n",
       "      <td>1987</td>\n",
       "      <td>1</td>\n",
       "      <td>80</td>\n",
       "      <td>1</td>\n",
       "      <td>21800</td>\n",
       "      <td>4.59</td>\n",
       "      <td>796</td>\n",
       "      <td>1</td>\n",
       "    </tr>\n",
       "    <tr>\n",
       "      <th>4</th>\n",
       "      <td>Albania</td>\n",
       "      <td>1987</td>\n",
       "      <td>1</td>\n",
       "      <td>30</td>\n",
       "      <td>9</td>\n",
       "      <td>274300</td>\n",
       "      <td>3.28</td>\n",
       "      <td>796</td>\n",
       "      <td>3</td>\n",
       "    </tr>\n",
       "  </tbody>\n",
       "</table>\n",
       "</div>"
      ],
      "text/plain": [
       "   country  year  sex  age  suicides_no  population  suicides/100k pop  \\\n",
       "0  Albania  1987    1   20           21      312900               6.71   \n",
       "1  Albania  1987    1   45           16      308000               5.19   \n",
       "2  Albania  1987    0   20           14      289700               4.83   \n",
       "3  Albania  1987    1   80            1       21800               4.59   \n",
       "4  Albania  1987    1   30            9      274300               3.28   \n",
       "\n",
       "   gdp_per_capita  generation  \n",
       "0             796           4  \n",
       "1             796           2  \n",
       "2             796           4  \n",
       "3             796           1  \n",
       "4             796           3  "
      ]
     },
     "execution_count": 6,
     "metadata": {},
     "output_type": "execute_result"
    }
   ],
   "source": [
    "df = df.drop(columns=['gdp_for_year']).copy()\n",
    "df.head()"
   ]
  },
  {
   "cell_type": "markdown",
   "metadata": {},
   "source": [
    "We will use this as our dataframe to work with, and to answer the required questions. Note that we are keeping most of the features here. The reason for this is that some of these features may come in handy when answer our problems. So we will keep them in the dataframe, and only select the ones needed to answer our questions."
   ]
  },
  {
   "cell_type": "markdown",
   "metadata": {},
   "source": [
    "----\n",
    "\n",
    "**Note: I have built the entire model/classifiers with question 6 in mind.**\n",
    "\n",
    "----"
   ]
  },
  {
   "cell_type": "markdown",
   "metadata": {},
   "source": [
    "### 1. What is the dependent variable you decided? Why?"
   ]
  },
  {
   "cell_type": "markdown",
   "metadata": {},
   "source": [
    "Note that our data frame has the following features: \n",
    "\n",
    "1. country\n",
    "2. year\n",
    "3. sex\n",
    "4. age\n",
    "5. suicides_no\n",
    "6. population\n",
    "7. sucides/100k pop\n",
    "8. gdp_per_capita\n",
    "9. generation\n",
    "\n",
    "Our goal is to answer questions like \"what is the probability of a male, of this age, in that country to commit suicide?\" In order to answer questions like these, we need to know the name of the country, year, age. Then we can say that we have a function $f(\\text{country, year, age}) \\mapsto P(s)$, where $P(s)$ is the probabiliy of suicide. Therefore, based on this iteration, we can say that our independent variables are country, year, age, sex, etc. And, our dependent variable will be based on suicides/100k pop, which we tackle in the next question."
   ]
  },
  {
   "cell_type": "markdown",
   "metadata": {},
   "source": [
    "### 2. Set the dependent variable into two categories based on a defensible criteria.(Hint: skirts of the probability density function)"
   ]
  },
  {
   "cell_type": "markdown",
   "metadata": {},
   "source": [
    "Let's first look at the distribution of our target variable. Because we have a lot of data we will use bin size of 20."
   ]
  },
  {
   "cell_type": "code",
   "execution_count": 7,
   "metadata": {},
   "outputs": [
    {
     "data": {
      "image/png": "[encoded data removed]",
      "text/plain": [
       "<Figure size 1440x360 with 1 Axes>"
      ]
     },
     "metadata": {
      "needs_background": "light"
     },
     "output_type": "display_data"
    }
   ],
   "source": [
    "ax = sns.displot(df, x='suicides/100k pop', bins=20, color=\"slategrey\")\n",
    "ax.fig.set_size_inches(20,5)"
   ]
  },
  {
   "cell_type": "markdown",
   "metadata": {},
   "source": [
    "We need to discretize this information to create two categories. We will create low/high category this will help us predict, given certain information, whether we have a high or low chance of a person committing suicide."
   ]
  },
  {
   "cell_type": "code",
   "execution_count": 8,
   "metadata": {},
   "outputs": [
    {
     "data": {
      "text/html": [
       "<div>\n",
       "<style scoped>\n",
       "    .dataframe tbody tr th:only-of-type {\n",
       "        vertical-align: middle;\n",
       "    }\n",
       "\n",
       "    .dataframe tbody tr th {\n",
       "        vertical-align: top;\n",
       "    }\n",
       "\n",
       "    .dataframe thead th {\n",
       "        text-align: right;\n",
       "    }\n",
       "</style>\n",
       "<table border=\"1\" class=\"dataframe\">\n",
       "  <thead>\n",
       "    <tr style=\"text-align: right;\">\n",
       "      <th></th>\n",
       "      <th>country</th>\n",
       "      <th>year</th>\n",
       "      <th>sex</th>\n",
       "      <th>age</th>\n",
       "      <th>suicides_no</th>\n",
       "      <th>population</th>\n",
       "      <th>suicides/100k pop</th>\n",
       "      <th>gdp_per_capita</th>\n",
       "      <th>generation</th>\n",
       "      <th>target</th>\n",
       "    </tr>\n",
       "  </thead>\n",
       "  <tbody>\n",
       "    <tr>\n",
       "      <th>0</th>\n",
       "      <td>Albania</td>\n",
       "      <td>1987</td>\n",
       "      <td>1</td>\n",
       "      <td>20</td>\n",
       "      <td>21</td>\n",
       "      <td>312900</td>\n",
       "      <td>6.71</td>\n",
       "      <td>796</td>\n",
       "      <td>4</td>\n",
       "      <td>Low</td>\n",
       "    </tr>\n",
       "    <tr>\n",
       "      <th>1</th>\n",
       "      <td>Albania</td>\n",
       "      <td>1987</td>\n",
       "      <td>1</td>\n",
       "      <td>45</td>\n",
       "      <td>16</td>\n",
       "      <td>308000</td>\n",
       "      <td>5.19</td>\n",
       "      <td>796</td>\n",
       "      <td>2</td>\n",
       "      <td>Low</td>\n",
       "    </tr>\n",
       "    <tr>\n",
       "      <th>2</th>\n",
       "      <td>Albania</td>\n",
       "      <td>1987</td>\n",
       "      <td>0</td>\n",
       "      <td>20</td>\n",
       "      <td>14</td>\n",
       "      <td>289700</td>\n",
       "      <td>4.83</td>\n",
       "      <td>796</td>\n",
       "      <td>4</td>\n",
       "      <td>Low</td>\n",
       "    </tr>\n",
       "    <tr>\n",
       "      <th>3</th>\n",
       "      <td>Albania</td>\n",
       "      <td>1987</td>\n",
       "      <td>1</td>\n",
       "      <td>80</td>\n",
       "      <td>1</td>\n",
       "      <td>21800</td>\n",
       "      <td>4.59</td>\n",
       "      <td>796</td>\n",
       "      <td>1</td>\n",
       "      <td>Low</td>\n",
       "    </tr>\n",
       "    <tr>\n",
       "      <th>4</th>\n",
       "      <td>Albania</td>\n",
       "      <td>1987</td>\n",
       "      <td>1</td>\n",
       "      <td>30</td>\n",
       "      <td>9</td>\n",
       "      <td>274300</td>\n",
       "      <td>3.28</td>\n",
       "      <td>796</td>\n",
       "      <td>3</td>\n",
       "      <td>Low</td>\n",
       "    </tr>\n",
       "  </tbody>\n",
       "</table>\n",
       "</div>"
      ],
      "text/plain": [
       "   country  year  sex  age  suicides_no  population  suicides/100k pop  \\\n",
       "0  Albania  1987    1   20           21      312900               6.71   \n",
       "1  Albania  1987    1   45           16      308000               5.19   \n",
       "2  Albania  1987    0   20           14      289700               4.83   \n",
       "3  Albania  1987    1   80            1       21800               4.59   \n",
       "4  Albania  1987    1   30            9      274300               3.28   \n",
       "\n",
       "   gdp_per_capita  generation target  \n",
       "0             796           4    Low  \n",
       "1             796           2    Low  \n",
       "2             796           4    Low  \n",
       "3             796           1    Low  \n",
       "4             796           3    Low  "
      ]
     },
     "execution_count": 8,
     "metadata": {},
     "output_type": "execute_result"
    }
   ],
   "source": [
    "y_mean = np.mean(df['suicides/100k pop'].values)\n",
    "y_std = np.std(df['suicides/100k pop'].values)\n",
    "target = pd.cut(df['suicides/100k pop'], bins = [np.NINF, (y_mean+0.5*y_std), np.Infinity], labels=[\"Low\", \"High\"])\n",
    "df['target'] = target\n",
    "df.head()"
   ]
  },
  {
   "cell_type": "markdown",
   "metadata": {},
   "source": [
    "Now that we have this information, we need to make it easier for our model to classify. Therefore, we will convert the target label to 0/1; 0 represents low, and 1 represents high."
   ]
  },
  {
   "cell_type": "code",
   "execution_count": 9,
   "metadata": {},
   "outputs": [
    {
     "data": {
      "text/html": [
       "<div>\n",
       "<style scoped>\n",
       "    .dataframe tbody tr th:only-of-type {\n",
       "        vertical-align: middle;\n",
       "    }\n",
       "\n",
       "    .dataframe tbody tr th {\n",
       "        vertical-align: top;\n",
       "    }\n",
       "\n",
       "    .dataframe thead th {\n",
       "        text-align: right;\n",
       "    }\n",
       "</style>\n",
       "<table border=\"1\" class=\"dataframe\">\n",
       "  <thead>\n",
       "    <tr style=\"text-align: right;\">\n",
       "      <th></th>\n",
       "      <th>country</th>\n",
       "      <th>year</th>\n",
       "      <th>sex</th>\n",
       "      <th>age</th>\n",
       "      <th>suicides_no</th>\n",
       "      <th>population</th>\n",
       "      <th>suicides/100k pop</th>\n",
       "      <th>gdp_per_capita</th>\n",
       "      <th>generation</th>\n",
       "      <th>target</th>\n",
       "    </tr>\n",
       "  </thead>\n",
       "  <tbody>\n",
       "    <tr>\n",
       "      <th>0</th>\n",
       "      <td>Albania</td>\n",
       "      <td>1987</td>\n",
       "      <td>1</td>\n",
       "      <td>20</td>\n",
       "      <td>21</td>\n",
       "      <td>312900</td>\n",
       "      <td>6.71</td>\n",
       "      <td>796</td>\n",
       "      <td>4</td>\n",
       "      <td>0</td>\n",
       "    </tr>\n",
       "    <tr>\n",
       "      <th>1</th>\n",
       "      <td>Albania</td>\n",
       "      <td>1987</td>\n",
       "      <td>1</td>\n",
       "      <td>45</td>\n",
       "      <td>16</td>\n",
       "      <td>308000</td>\n",
       "      <td>5.19</td>\n",
       "      <td>796</td>\n",
       "      <td>2</td>\n",
       "      <td>0</td>\n",
       "    </tr>\n",
       "    <tr>\n",
       "      <th>2</th>\n",
       "      <td>Albania</td>\n",
       "      <td>1987</td>\n",
       "      <td>0</td>\n",
       "      <td>20</td>\n",
       "      <td>14</td>\n",
       "      <td>289700</td>\n",
       "      <td>4.83</td>\n",
       "      <td>796</td>\n",
       "      <td>4</td>\n",
       "      <td>0</td>\n",
       "    </tr>\n",
       "    <tr>\n",
       "      <th>3</th>\n",
       "      <td>Albania</td>\n",
       "      <td>1987</td>\n",
       "      <td>1</td>\n",
       "      <td>80</td>\n",
       "      <td>1</td>\n",
       "      <td>21800</td>\n",
       "      <td>4.59</td>\n",
       "      <td>796</td>\n",
       "      <td>1</td>\n",
       "      <td>0</td>\n",
       "    </tr>\n",
       "    <tr>\n",
       "      <th>4</th>\n",
       "      <td>Albania</td>\n",
       "      <td>1987</td>\n",
       "      <td>1</td>\n",
       "      <td>30</td>\n",
       "      <td>9</td>\n",
       "      <td>274300</td>\n",
       "      <td>3.28</td>\n",
       "      <td>796</td>\n",
       "      <td>3</td>\n",
       "      <td>0</td>\n",
       "    </tr>\n",
       "  </tbody>\n",
       "</table>\n",
       "</div>"
      ],
      "text/plain": [
       "   country  year  sex  age  suicides_no  population  suicides/100k pop  \\\n",
       "0  Albania  1987    1   20           21      312900               6.71   \n",
       "1  Albania  1987    1   45           16      308000               5.19   \n",
       "2  Albania  1987    0   20           14      289700               4.83   \n",
       "3  Albania  1987    1   80            1       21800               4.59   \n",
       "4  Albania  1987    1   30            9      274300               3.28   \n",
       "\n",
       "   gdp_per_capita  generation  target  \n",
       "0             796           4       0  \n",
       "1             796           2       0  \n",
       "2             796           4       0  \n",
       "3             796           1       0  \n",
       "4             796           3       0  "
      ]
     },
     "execution_count": 9,
     "metadata": {},
     "output_type": "execute_result"
    }
   ],
   "source": [
    "df['target'] = df['target'].replace({'Low': 0, 'High': 1})\n",
    "df.head()"
   ]
  },
  {
   "cell_type": "markdown",
   "metadata": {},
   "source": [
    "Now we have set the dependent variable into two categories."
   ]
  },
  {
   "cell_type": "markdown",
   "metadata": {},
   "source": [
    "### 3. Develop your classification model(s) to solve your defined problem."
   ]
  },
  {
   "cell_type": "markdown",
   "metadata": {},
   "source": [
    "Before we build a model let's actually do some EDA and find out more information than we did in assignment 3. This will help us gain a deeper understanding of the features that we have. Sometimes interesting questions can arise during the EDA. Let's begin by finding out information about the preprocessed data."
   ]
  },
  {
   "cell_type": "markdown",
   "metadata": {},
   "source": [
    "#### EDA"
   ]
  },
  {
   "cell_type": "code",
   "execution_count": 10,
   "metadata": {},
   "outputs": [
    {
     "data": {
      "text/plain": [
       "(27820, 10)"
      ]
     },
     "execution_count": 10,
     "metadata": {},
     "output_type": "execute_result"
    }
   ],
   "source": [
    "df.shape"
   ]
  },
  {
   "cell_type": "code",
   "execution_count": 11,
   "metadata": {},
   "outputs": [
    {
     "data": {
      "text/html": [
       "<div>\n",
       "<style scoped>\n",
       "    .dataframe tbody tr th:only-of-type {\n",
       "        vertical-align: middle;\n",
       "    }\n",
       "\n",
       "    .dataframe tbody tr th {\n",
       "        vertical-align: top;\n",
       "    }\n",
       "\n",
       "    .dataframe thead th {\n",
       "        text-align: right;\n",
       "    }\n",
       "</style>\n",
       "<table border=\"1\" class=\"dataframe\">\n",
       "  <thead>\n",
       "    <tr style=\"text-align: right;\">\n",
       "      <th></th>\n",
       "      <th>age</th>\n",
       "      <th>suicides_no</th>\n",
       "      <th>population</th>\n",
       "      <th>suicides/100k pop</th>\n",
       "      <th>gdp_per_capita</th>\n",
       "    </tr>\n",
       "  </thead>\n",
       "  <tbody>\n",
       "    <tr>\n",
       "      <th>count</th>\n",
       "      <td>27820.000000</td>\n",
       "      <td>27820.000000</td>\n",
       "      <td>2.782000e+04</td>\n",
       "      <td>27820.000000</td>\n",
       "      <td>27820.000000</td>\n",
       "    </tr>\n",
       "    <tr>\n",
       "      <th>mean</th>\n",
       "      <td>41.703091</td>\n",
       "      <td>242.574407</td>\n",
       "      <td>1.844794e+06</td>\n",
       "      <td>12.816097</td>\n",
       "      <td>16866.464414</td>\n",
       "    </tr>\n",
       "    <tr>\n",
       "      <th>std</th>\n",
       "      <td>24.599168</td>\n",
       "      <td>902.047917</td>\n",
       "      <td>3.911779e+06</td>\n",
       "      <td>18.961511</td>\n",
       "      <td>18887.576472</td>\n",
       "    </tr>\n",
       "    <tr>\n",
       "      <th>min</th>\n",
       "      <td>10.000000</td>\n",
       "      <td>0.000000</td>\n",
       "      <td>2.780000e+02</td>\n",
       "      <td>0.000000</td>\n",
       "      <td>251.000000</td>\n",
       "    </tr>\n",
       "    <tr>\n",
       "      <th>25%</th>\n",
       "      <td>20.000000</td>\n",
       "      <td>3.000000</td>\n",
       "      <td>9.749850e+04</td>\n",
       "      <td>0.920000</td>\n",
       "      <td>3447.000000</td>\n",
       "    </tr>\n",
       "    <tr>\n",
       "      <th>50%</th>\n",
       "      <td>45.000000</td>\n",
       "      <td>25.000000</td>\n",
       "      <td>4.301500e+05</td>\n",
       "      <td>5.990000</td>\n",
       "      <td>9372.000000</td>\n",
       "    </tr>\n",
       "    <tr>\n",
       "      <th>75%</th>\n",
       "      <td>65.000000</td>\n",
       "      <td>131.000000</td>\n",
       "      <td>1.486143e+06</td>\n",
       "      <td>16.620000</td>\n",
       "      <td>24874.000000</td>\n",
       "    </tr>\n",
       "    <tr>\n",
       "      <th>max</th>\n",
       "      <td>80.000000</td>\n",
       "      <td>22338.000000</td>\n",
       "      <td>4.380521e+07</td>\n",
       "      <td>224.970000</td>\n",
       "      <td>126352.000000</td>\n",
       "    </tr>\n",
       "  </tbody>\n",
       "</table>\n",
       "</div>"
      ],
      "text/plain": [
       "                age   suicides_no    population  suicides/100k pop  \\\n",
       "count  27820.000000  27820.000000  2.782000e+04       27820.000000   \n",
       "mean      41.703091    242.574407  1.844794e+06          12.816097   \n",
       "std       24.599168    902.047917  3.911779e+06          18.961511   \n",
       "min       10.000000      0.000000  2.780000e+02           0.000000   \n",
       "25%       20.000000      3.000000  9.749850e+04           0.920000   \n",
       "50%       45.000000     25.000000  4.301500e+05           5.990000   \n",
       "75%       65.000000    131.000000  1.486143e+06          16.620000   \n",
       "max       80.000000  22338.000000  4.380521e+07         224.970000   \n",
       "\n",
       "       gdp_per_capita  \n",
       "count    27820.000000  \n",
       "mean     16866.464414  \n",
       "std      18887.576472  \n",
       "min        251.000000  \n",
       "25%       3447.000000  \n",
       "50%       9372.000000  \n",
       "75%      24874.000000  \n",
       "max     126352.000000  "
      ]
     },
     "execution_count": 11,
     "metadata": {},
     "output_type": "execute_result"
    }
   ],
   "source": [
    "df.describe()[['age', 'suicides_no', 'population', 'suicides/100k pop', 'gdp_per_capita']]"
   ]
  },
  {
   "cell_type": "markdown",
   "metadata": {},
   "source": [
    "We notice here that mean suicides/100k pop is 12.816, while the max is 224.97. Furthermore, mean age is 41.70, and the max age is 80."
   ]
  },
  {
   "cell_type": "code",
   "execution_count": 12,
   "metadata": {},
   "outputs": [
    {
     "data": {
      "image/png": "[encoded data removed]",
      "text/plain": [
       "<Figure size 1080x504 with 1 Axes>"
      ]
     },
     "metadata": {
      "needs_background": "light"
     },
     "output_type": "display_data"
    }
   ],
   "source": [
    "s = df['suicides/100k pop'].groupby(df.year).sum()\n",
    "s.plot(figsize=(15,7), linewidth=2, fontsize=15, color='purple')\n",
    "plt.xlabel('year', fontsize=15)\n",
    "plt.ylabel('suicides/100k pop',fontsize=15)\n",
    "plt.title(\"suicides/100k pop trend\", fontsize=15)\n",
    "plt.show()"
   ]
  },
  {
   "cell_type": "markdown",
   "metadata": {},
   "source": [
    "We notice here that the suicides/100k pop have dropped significantly in the recent years as compared to the 1990s. We also notice that the suicides/100k pop started to rise after the 1985 and peaked around 1995 - 2000. It started to drop and dropped significantly in the recent years."
   ]
  },
  {
   "cell_type": "code",
   "execution_count": 13,
   "metadata": {},
   "outputs": [
    {
     "data": {
      "image/png": "[encoded data removed]",
      "text/plain": [
       "<Figure size 1152x432 with 1 Axes>"
      ]
     },
     "metadata": {
      "needs_background": "light"
     },
     "output_type": "display_data"
    }
   ],
   "source": [
    "f,ax = plt.subplots(1,1,figsize=(16,6))\n",
    "ax = sns.barplot(x = df['year'], y = 'suicides/100k pop', data=df, palette='Set2')\n",
    "plt.xlabel('year', fontsize=15)\n",
    "plt.ylabel('suicides/100k pop',fontsize=15)\n",
    "plt.title(\"suicides/100k pop by year\", fontsize=15)\n",
    "plt.show()"
   ]
  },
  {
   "cell_type": "markdown",
   "metadata": {},
   "source": [
    "Again we notice that 1995 was the year when the world experience highest sucide/100k pop. However, it appears that we are likely to witness an increase in this number as witnessed by the spike in 2016."
   ]
  },
  {
   "cell_type": "code",
   "execution_count": 14,
   "metadata": {},
   "outputs": [
    {
     "data": {
      "image/png": "[encoded data removed]",
      "text/plain": [
       "<Figure size 1080x504 with 1 Axes>"
      ]
     },
     "metadata": {
      "needs_background": "light"
     },
     "output_type": "display_data"
    }
   ],
   "source": [
    "df[\"year_dt\"] = pd.to_datetime(df[\"year\"], format = \"%Y\")\n",
    "data = df.groupby([\"year_dt\", \"sex\"]).agg(\"mean\").reset_index()\n",
    "fig, ax = plt.subplots(figsize=(15, 7))\n",
    "ax = sns.lineplot(x = \"year_dt\", y = \"suicides/100k pop\", hue = \"sex\", data = df, palette=\"Set1\")\n",
    "plt.xlim(\"1985\", \"2016\")\n",
    "plt.xlabel(\"year\", fontsize=15)\n",
    "plt.ylabel(\"suicides/100k pop\", fontsize=15)\n",
    "plt.title(\"Mean suicides/100k pop (1985 - 2016)\", fontsize=15)\n",
    "plt.setp(ax.get_legend().get_title(), fontsize='20')\n",
    "plt.setp(ax.get_legend().get_texts(), fontsize='15')\n",
    "plt.show()\n",
    "df = df.drop(columns = \"year_dt\")"
   ]
  },
  {
   "cell_type": "markdown",
   "metadata": {},
   "source": [
    "We notice here that suicide rates are rather high amongst men than women. In the recent years suicide amongst men are on the rise again but as a whole suicides/100k pop are down. Lastly, in assignment 3 we discovered that suicide/100k pop was rather in former soviet block countries. Next we can check information about generation and our target variable."
   ]
  },
  {
   "cell_type": "code",
   "execution_count": 15,
   "metadata": {},
   "outputs": [
    {
     "data": {
      "image/png": "[encoded data removed]",
      "text/plain": [
       "<Figure size 1080x504 with 1 Axes>"
      ]
     },
     "metadata": {
      "needs_background": "light"
     },
     "output_type": "display_data"
    }
   ],
   "source": [
    "df['generation_label'] = df['generation'].replace({1: 'G.I. Generation', 2: 'Silent', 3: 'Boomers', 4: 'Generation X', 5: 'Millenials', 6: 'Generation Z'})\n",
    "fig, ax = plt.subplots(1,1,figsize=(15,7))\n",
    "ax = sns.barplot(x = df['generation_label'], y = 'suicides/100k pop', hue='sex',data=df, palette='Set2')\n",
    "plt.xlabel(\"Generation\", fontsize=15)\n",
    "plt.ylabel(\"suicides/100k pop\", fontsize=15)\n",
    "plt.title(\"suicide/100k pop by generation\", fontsize=15)\n",
    "plt.setp(ax.get_legend().get_title(), fontsize='20')\n",
    "plt.setp(ax.get_legend().get_texts(), fontsize='15')\n",
    "plt.show()\n",
    "df = df.drop(columns = \"generation_label\")"
   ]
  },
  {
   "cell_type": "markdown",
   "metadata": {},
   "source": [
    "We notice that suicide/100k pop is highest amongst G.I. Generation. Next we can find out the age group and suicide."
   ]
  },
  {
   "cell_type": "code",
   "execution_count": 16,
   "metadata": {},
   "outputs": [
    {
     "data": {
      "image/png": "[encoded data removed]",
      "text/plain": [
       "<Figure size 1080x504 with 1 Axes>"
      ]
     },
     "metadata": {
      "needs_background": "light"
     },
     "output_type": "display_data"
    }
   ],
   "source": [
    "df['age_range'] = df['age'].replace({10: '5-14 years', 20: '15-24 years', 30: '25-34 years', 45: '35-54 years', 65: '55-74 years', 80: '75+ years'})\n",
    "fig,ax = plt.subplots(1,1,figsize=(15,7))\n",
    "ax = sns.barplot(x = df['age_range'], y = 'suicides/100k pop', hue='sex',data=df, palette='Paired')\n",
    "plt.xlabel(\"Age Group\", fontsize=15)\n",
    "plt.ylabel(\"suicides/100k pop\", fontsize=15)\n",
    "plt.title(\"suicide/100k pop by age range\", fontsize=15)\n",
    "plt.setp(ax.get_legend().get_title(), fontsize='20')\n",
    "plt.setp(ax.get_legend().get_texts(), fontsize='15')\n",
    "plt.show()\n",
    "df = df.drop(columns = \"age_range\")"
   ]
  },
  {
   "cell_type": "markdown",
   "metadata": {},
   "source": [
    "We notice that the G.I. Generation is people 75+ years old. In this age group suicide amongst men is the highest. However, could this because as we get older we are more likely to be alone, and depressed?"
   ]
  },
  {
   "cell_type": "code",
   "execution_count": 17,
   "metadata": {},
   "outputs": [
    {
     "data": {
      "text/html": [
       "<style  type=\"text/css\" >\n",
       "#T_d28eb042_1199_11eb_9d5d_acde48001122row0_col2{\n",
       "            background-color:  #03051a;\n",
       "            color:  #f1f1f1;\n",
       "        }#T_d28eb042_1199_11eb_9d5d_acde48001122row1_col2{\n",
       "            background-color:  #de2e44;\n",
       "            color:  #f1f1f1;\n",
       "        }#T_d28eb042_1199_11eb_9d5d_acde48001122row2_col2{\n",
       "            background-color:  #f6a880;\n",
       "            color:  #000000;\n",
       "        }#T_d28eb042_1199_11eb_9d5d_acde48001122row3_col2{\n",
       "            background-color:  #f6b995;\n",
       "            color:  #000000;\n",
       "        }#T_d28eb042_1199_11eb_9d5d_acde48001122row4_col2{\n",
       "            background-color:  #f6c19f;\n",
       "            color:  #000000;\n",
       "        }#T_d28eb042_1199_11eb_9d5d_acde48001122row5_col2{\n",
       "            background-color:  #f7c7a8;\n",
       "            color:  #000000;\n",
       "        }#T_d28eb042_1199_11eb_9d5d_acde48001122row6_col2{\n",
       "            background-color:  #f7cdb1;\n",
       "            color:  #000000;\n",
       "        }#T_d28eb042_1199_11eb_9d5d_acde48001122row7_col2{\n",
       "            background-color:  #f8d4bc;\n",
       "            color:  #000000;\n",
       "        }#T_d28eb042_1199_11eb_9d5d_acde48001122row8_col2{\n",
       "            background-color:  #f8d9c3;\n",
       "            color:  #000000;\n",
       "        }#T_d28eb042_1199_11eb_9d5d_acde48001122row9_col2{\n",
       "            background-color:  #faebdd;\n",
       "            color:  #000000;\n",
       "        }</style><table id=\"T_d28eb042_1199_11eb_9d5d_acde48001122\" ><thead>    <tr>        <th class=\"blank level0\" ></th>        <th class=\"col_heading level0 col0\" >country</th>        <th class=\"col_heading level0 col1\" >year</th>        <th class=\"col_heading level0 col2\" >suicides/100k pop</th>    </tr></thead><tbody>\n",
       "                <tr>\n",
       "                        <th id=\"T_d28eb042_1199_11eb_9d5d_acde48001122level0_row0\" class=\"row_heading level0 row0\" >1255</th>\n",
       "                        <td id=\"T_d28eb042_1199_11eb_9d5d_acde48001122row0_col0\" class=\"data row0 col0\" >Lithuania</td>\n",
       "                        <td id=\"T_d28eb042_1199_11eb_9d5d_acde48001122row0_col1\" class=\"data row0 col1\" >1995</td>\n",
       "                        <td id=\"T_d28eb042_1199_11eb_9d5d_acde48001122row0_col2\" class=\"data row0 col2\" >639.300000</td>\n",
       "            </tr>\n",
       "            <tr>\n",
       "                        <th id=\"T_d28eb042_1199_11eb_9d5d_acde48001122level0_row1\" class=\"row_heading level0 row1\" >1256</th>\n",
       "                        <td id=\"T_d28eb042_1199_11eb_9d5d_acde48001122row1_col0\" class=\"data row1 col0\" >Lithuania</td>\n",
       "                        <td id=\"T_d28eb042_1199_11eb_9d5d_acde48001122row1_col1\" class=\"data row1 col1\" >1996</td>\n",
       "                        <td id=\"T_d28eb042_1199_11eb_9d5d_acde48001122row1_col2\" class=\"data row1 col2\" >595.610000</td>\n",
       "            </tr>\n",
       "            <tr>\n",
       "                        <th id=\"T_d28eb042_1199_11eb_9d5d_acde48001122level0_row2\" class=\"row_heading level0 row2\" >948</th>\n",
       "                        <td id=\"T_d28eb042_1199_11eb_9d5d_acde48001122row2_col0\" class=\"data row2 col0\" >Hungary</td>\n",
       "                        <td id=\"T_d28eb042_1199_11eb_9d5d_acde48001122row2_col1\" class=\"data row2 col1\" >1991</td>\n",
       "                        <td id=\"T_d28eb042_1199_11eb_9d5d_acde48001122row2_col2\" class=\"data row2 col2\" >575.000000</td>\n",
       "            </tr>\n",
       "            <tr>\n",
       "                        <th id=\"T_d28eb042_1199_11eb_9d5d_acde48001122level0_row3\" class=\"row_heading level0 row3\" >1260</th>\n",
       "                        <td id=\"T_d28eb042_1199_11eb_9d5d_acde48001122row3_col0\" class=\"data row3 col0\" >Lithuania</td>\n",
       "                        <td id=\"T_d28eb042_1199_11eb_9d5d_acde48001122row3_col1\" class=\"data row3 col1\" >2000</td>\n",
       "                        <td id=\"T_d28eb042_1199_11eb_9d5d_acde48001122row3_col2\" class=\"data row3 col2\" >571.800000</td>\n",
       "            </tr>\n",
       "            <tr>\n",
       "                        <th id=\"T_d28eb042_1199_11eb_9d5d_acde48001122level0_row4\" class=\"row_heading level0 row4\" >949</th>\n",
       "                        <td id=\"T_d28eb042_1199_11eb_9d5d_acde48001122row4_col0\" class=\"data row4 col0\" >Hungary</td>\n",
       "                        <td id=\"T_d28eb042_1199_11eb_9d5d_acde48001122row4_col1\" class=\"data row4 col1\" >1992</td>\n",
       "                        <td id=\"T_d28eb042_1199_11eb_9d5d_acde48001122row4_col2\" class=\"data row4 col2\" >570.260000</td>\n",
       "            </tr>\n",
       "            <tr>\n",
       "                        <th id=\"T_d28eb042_1199_11eb_9d5d_acde48001122level0_row5\" class=\"row_heading level0 row5\" >1261</th>\n",
       "                        <td id=\"T_d28eb042_1199_11eb_9d5d_acde48001122row5_col0\" class=\"data row5 col0\" >Lithuania</td>\n",
       "                        <td id=\"T_d28eb042_1199_11eb_9d5d_acde48001122row5_col1\" class=\"data row5 col1\" >2001</td>\n",
       "                        <td id=\"T_d28eb042_1199_11eb_9d5d_acde48001122row5_col2\" class=\"data row5 col2\" >568.980000</td>\n",
       "            </tr>\n",
       "            <tr>\n",
       "                        <th id=\"T_d28eb042_1199_11eb_9d5d_acde48001122level0_row6\" class=\"row_heading level0 row6\" >1752</th>\n",
       "                        <td id=\"T_d28eb042_1199_11eb_9d5d_acde48001122row6_col0\" class=\"data row6 col0\" >Russian Federation</td>\n",
       "                        <td id=\"T_d28eb042_1199_11eb_9d5d_acde48001122row6_col1\" class=\"data row6 col1\" >1994</td>\n",
       "                        <td id=\"T_d28eb042_1199_11eb_9d5d_acde48001122row6_col2\" class=\"data row6 col2\" >567.640000</td>\n",
       "            </tr>\n",
       "            <tr>\n",
       "                        <th id=\"T_d28eb042_1199_11eb_9d5d_acde48001122level0_row7\" class=\"row_heading level0 row7\" >1258</th>\n",
       "                        <td id=\"T_d28eb042_1199_11eb_9d5d_acde48001122row7_col0\" class=\"data row7 col0\" >Lithuania</td>\n",
       "                        <td id=\"T_d28eb042_1199_11eb_9d5d_acde48001122row7_col1\" class=\"data row7 col1\" >1998</td>\n",
       "                        <td id=\"T_d28eb042_1199_11eb_9d5d_acde48001122row7_col2\" class=\"data row7 col2\" >566.360000</td>\n",
       "            </tr>\n",
       "            <tr>\n",
       "                        <th id=\"T_d28eb042_1199_11eb_9d5d_acde48001122level0_row8\" class=\"row_heading level0 row8\" >1257</th>\n",
       "                        <td id=\"T_d28eb042_1199_11eb_9d5d_acde48001122row8_col0\" class=\"data row8 col0\" >Lithuania</td>\n",
       "                        <td id=\"T_d28eb042_1199_11eb_9d5d_acde48001122row8_col1\" class=\"data row8 col1\" >1997</td>\n",
       "                        <td id=\"T_d28eb042_1199_11eb_9d5d_acde48001122row8_col2\" class=\"data row8 col2\" >565.440000</td>\n",
       "            </tr>\n",
       "            <tr>\n",
       "                        <th id=\"T_d28eb042_1199_11eb_9d5d_acde48001122level0_row9\" class=\"row_heading level0 row9\" >1259</th>\n",
       "                        <td id=\"T_d28eb042_1199_11eb_9d5d_acde48001122row9_col0\" class=\"data row9 col0\" >Lithuania</td>\n",
       "                        <td id=\"T_d28eb042_1199_11eb_9d5d_acde48001122row9_col1\" class=\"data row9 col1\" >1999</td>\n",
       "                        <td id=\"T_d28eb042_1199_11eb_9d5d_acde48001122row9_col2\" class=\"data row9 col2\" >561.530000</td>\n",
       "            </tr>\n",
       "    </tbody></table>"
      ],
      "text/plain": [
       "<pandas.io.formats.style.Styler at 0x7fb8283fb130>"
      ]
     },
     "execution_count": 17,
     "metadata": {},
     "output_type": "execute_result"
    }
   ],
   "source": [
    "data = df.groupby(['country', 'year'])[['suicides/100k pop']].sum().reset_index()\n",
    "data.sort_values(by='suicides/100k pop', ascending=False).head(10).style.background_gradient(cmap='rocket_r', subset=['suicides/100k pop'])"
   ]
  },
  {
   "cell_type": "markdown",
   "metadata": {},
   "source": [
    "We see that there are many instances of Lithuania here. Specifically we see 7 instances of Lithuania in top 10 when we sort by suicides/100k pop. This is really troubling to see about Lithuania. Let's find out how many times Lithuania appears in total."
   ]
  },
  {
   "cell_type": "code",
   "execution_count": 18,
   "metadata": {},
   "outputs": [
    {
     "data": {
      "text/plain": [
       "22"
      ]
     },
     "execution_count": 18,
     "metadata": {},
     "output_type": "execute_result"
    }
   ],
   "source": [
    "data.sort_values(by='suicides/100k pop', ascending=False).loc[data['country'] == 'Lithuania'].count()[0]"
   ]
  },
  {
   "cell_type": "markdown",
   "metadata": {},
   "source": [
    "We notice here that Lithuania appears 22 times on the list. Is it the maximum number of times? "
   ]
  },
  {
   "cell_type": "code",
   "execution_count": 19,
   "metadata": {},
   "outputs": [
    {
     "data": {
      "text/plain": [
       "count        2321\n",
       "unique        101\n",
       "top       Austria\n",
       "freq           32\n",
       "Name: country, dtype: object"
      ]
     },
     "execution_count": 19,
     "metadata": {},
     "output_type": "execute_result"
    }
   ],
   "source": [
    "data.sort_values(by='suicides/100k pop', ascending=False)['country'].describe()"
   ]
  },
  {
   "cell_type": "markdown",
   "metadata": {},
   "source": [
    "We notice that Iceland appears most often but Lithuania is definitely the worst performing country when it comes to suicides/100k pop. Let's start building the classifier now that we have enough understand of our data.\n",
    "\n",
    "We can ask he following question: **Given information about the person, what can we say about the risk of suicide?**"
   ]
  },
  {
   "cell_type": "markdown",
   "metadata": {},
   "source": [
    "#### Build classifiers"
   ]
  },
  {
   "cell_type": "markdown",
   "metadata": {},
   "source": [
    "In assignment 3 we utilized 2 classifiers, and we use these classifiers here again. Should it turn out to be the case that these classifiers do not return high level of accuracy, we will re-examine the classifiers in the next section and test a new classifier. However, we believe that Random Forest Classifier will be sufficient on its own."
   ]
  },
  {
   "cell_type": "code",
   "execution_count": 20,
   "metadata": {},
   "outputs": [],
   "source": [
    "from sklearn.model_selection import StratifiedKFold, train_test_split\n",
    "from sklearn.metrics import accuracy_score, f1_score\n",
    "from sklearn.naive_bayes import GaussianNB\n",
    "from sklearn.preprocessing import LabelEncoder\n",
    "from sklearn.ensemble import RandomForestClassifier\n",
    "from sklearn.cluster import KMeans"
   ]
  },
  {
   "cell_type": "markdown",
   "metadata": {},
   "source": [
    "Let's check here what our dataframe looks like."
   ]
  },
  {
   "cell_type": "code",
   "execution_count": 21,
   "metadata": {},
   "outputs": [
    {
     "data": {
      "text/html": [
       "<div>\n",
       "<style scoped>\n",
       "    .dataframe tbody tr th:only-of-type {\n",
       "        vertical-align: middle;\n",
       "    }\n",
       "\n",
       "    .dataframe tbody tr th {\n",
       "        vertical-align: top;\n",
       "    }\n",
       "\n",
       "    .dataframe thead th {\n",
       "        text-align: right;\n",
       "    }\n",
       "</style>\n",
       "<table border=\"1\" class=\"dataframe\">\n",
       "  <thead>\n",
       "    <tr style=\"text-align: right;\">\n",
       "      <th></th>\n",
       "      <th>country</th>\n",
       "      <th>year</th>\n",
       "      <th>sex</th>\n",
       "      <th>age</th>\n",
       "      <th>suicides_no</th>\n",
       "      <th>population</th>\n",
       "      <th>suicides/100k pop</th>\n",
       "      <th>gdp_per_capita</th>\n",
       "      <th>generation</th>\n",
       "      <th>target</th>\n",
       "    </tr>\n",
       "  </thead>\n",
       "  <tbody>\n",
       "    <tr>\n",
       "      <th>0</th>\n",
       "      <td>Albania</td>\n",
       "      <td>1987</td>\n",
       "      <td>1</td>\n",
       "      <td>20</td>\n",
       "      <td>21</td>\n",
       "      <td>312900</td>\n",
       "      <td>6.71</td>\n",
       "      <td>796</td>\n",
       "      <td>4</td>\n",
       "      <td>0</td>\n",
       "    </tr>\n",
       "    <tr>\n",
       "      <th>1</th>\n",
       "      <td>Albania</td>\n",
       "      <td>1987</td>\n",
       "      <td>1</td>\n",
       "      <td>45</td>\n",
       "      <td>16</td>\n",
       "      <td>308000</td>\n",
       "      <td>5.19</td>\n",
       "      <td>796</td>\n",
       "      <td>2</td>\n",
       "      <td>0</td>\n",
       "    </tr>\n",
       "    <tr>\n",
       "      <th>2</th>\n",
       "      <td>Albania</td>\n",
       "      <td>1987</td>\n",
       "      <td>0</td>\n",
       "      <td>20</td>\n",
       "      <td>14</td>\n",
       "      <td>289700</td>\n",
       "      <td>4.83</td>\n",
       "      <td>796</td>\n",
       "      <td>4</td>\n",
       "      <td>0</td>\n",
       "    </tr>\n",
       "    <tr>\n",
       "      <th>3</th>\n",
       "      <td>Albania</td>\n",
       "      <td>1987</td>\n",
       "      <td>1</td>\n",
       "      <td>80</td>\n",
       "      <td>1</td>\n",
       "      <td>21800</td>\n",
       "      <td>4.59</td>\n",
       "      <td>796</td>\n",
       "      <td>1</td>\n",
       "      <td>0</td>\n",
       "    </tr>\n",
       "    <tr>\n",
       "      <th>4</th>\n",
       "      <td>Albania</td>\n",
       "      <td>1987</td>\n",
       "      <td>1</td>\n",
       "      <td>30</td>\n",
       "      <td>9</td>\n",
       "      <td>274300</td>\n",
       "      <td>3.28</td>\n",
       "      <td>796</td>\n",
       "      <td>3</td>\n",
       "      <td>0</td>\n",
       "    </tr>\n",
       "  </tbody>\n",
       "</table>\n",
       "</div>"
      ],
      "text/plain": [
       "   country  year  sex  age  suicides_no  population  suicides/100k pop  \\\n",
       "0  Albania  1987    1   20           21      312900               6.71   \n",
       "1  Albania  1987    1   45           16      308000               5.19   \n",
       "2  Albania  1987    0   20           14      289700               4.83   \n",
       "3  Albania  1987    1   80            1       21800               4.59   \n",
       "4  Albania  1987    1   30            9      274300               3.28   \n",
       "\n",
       "   gdp_per_capita  generation  target  \n",
       "0             796           4       0  \n",
       "1             796           2       0  \n",
       "2             796           4       0  \n",
       "3             796           1       0  \n",
       "4             796           3       0  "
      ]
     },
     "execution_count": 21,
     "metadata": {},
     "output_type": "execute_result"
    }
   ],
   "source": [
    "df.head()"
   ]
  },
  {
   "cell_type": "markdown",
   "metadata": {},
   "source": [
    "Not much has changed, which is good because we created a lot of graphs above and it is good to ensure that we do not have an unwanted feature or variable added onto the data. Not all the data is in the same format, and standardizing the data will probably not work in our favor. We will use the data as is."
   ]
  },
  {
   "cell_type": "code",
   "execution_count": 22,
   "metadata": {},
   "outputs": [],
   "source": [
    "rfc = RandomForestClassifier(n_estimators=500, max_depth=6, criterion='gini', random_state=10)\n",
    "nbc = GaussianNB()"
   ]
  },
  {
   "cell_type": "markdown",
   "metadata": {},
   "source": [
    "Now that we have our classifiers, let's create a function that will help us with stratification."
   ]
  },
  {
   "cell_type": "code",
   "execution_count": 23,
   "metadata": {},
   "outputs": [],
   "source": [
    "def kfold(clf, X, y, splits=10, shuffle=True, random_state=10):\n",
    "    score = []\n",
    "    kfold = StratifiedKFold(n_splits=splits, shuffle=shuffle, random_state=random_state)\n",
    "    for train_index, test_index in kfold.split(X, y):\n",
    "        clfr = clf.fit(X[train_index], y[train_index])\n",
    "        y_pred = clfr.predict(X[test_index])\n",
    "        score += [accuracy_score(y[test_index], y_pred)]\n",
    "    return (clfr, np.mean(np.array(score)))"
   ]
  },
  {
   "cell_type": "code",
   "execution_count": 24,
   "metadata": {},
   "outputs": [],
   "source": [
    "def split(clf, X, y, test_size=0.2, random_state=10, shuffle=True):\n",
    "    X_train, X_test, y_train, y_test = train_test_split(X, y, test_size=test_size, random_state=random_state, shuffle=shuffle)\n",
    "    clfr = clf.fit(X_train, y_train)\n",
    "    predictions = clfr.predict(X_test)\n",
    "    return (clfr, accuracy_score(y_test, predictions))"
   ]
  },
  {
   "cell_type": "code",
   "execution_count": 25,
   "metadata": {},
   "outputs": [
    {
     "data": {
      "text/html": [
       "<div>\n",
       "<style scoped>\n",
       "    .dataframe tbody tr th:only-of-type {\n",
       "        vertical-align: middle;\n",
       "    }\n",
       "\n",
       "    .dataframe tbody tr th {\n",
       "        vertical-align: top;\n",
       "    }\n",
       "\n",
       "    .dataframe thead th {\n",
       "        text-align: right;\n",
       "    }\n",
       "</style>\n",
       "<table border=\"1\" class=\"dataframe\">\n",
       "  <thead>\n",
       "    <tr style=\"text-align: right;\">\n",
       "      <th></th>\n",
       "      <th>country</th>\n",
       "      <th>year</th>\n",
       "      <th>sex</th>\n",
       "      <th>age</th>\n",
       "      <th>suicides_no</th>\n",
       "      <th>population</th>\n",
       "      <th>suicides/100k pop</th>\n",
       "      <th>gdp_per_capita</th>\n",
       "      <th>generation</th>\n",
       "      <th>target</th>\n",
       "      <th>country_cat</th>\n",
       "    </tr>\n",
       "  </thead>\n",
       "  <tbody>\n",
       "    <tr>\n",
       "      <th>0</th>\n",
       "      <td>Albania</td>\n",
       "      <td>1987</td>\n",
       "      <td>1</td>\n",
       "      <td>20</td>\n",
       "      <td>21</td>\n",
       "      <td>312900</td>\n",
       "      <td>6.71</td>\n",
       "      <td>796</td>\n",
       "      <td>4</td>\n",
       "      <td>0</td>\n",
       "      <td>0</td>\n",
       "    </tr>\n",
       "    <tr>\n",
       "      <th>1</th>\n",
       "      <td>Albania</td>\n",
       "      <td>1987</td>\n",
       "      <td>1</td>\n",
       "      <td>45</td>\n",
       "      <td>16</td>\n",
       "      <td>308000</td>\n",
       "      <td>5.19</td>\n",
       "      <td>796</td>\n",
       "      <td>2</td>\n",
       "      <td>0</td>\n",
       "      <td>0</td>\n",
       "    </tr>\n",
       "    <tr>\n",
       "      <th>2</th>\n",
       "      <td>Albania</td>\n",
       "      <td>1987</td>\n",
       "      <td>0</td>\n",
       "      <td>20</td>\n",
       "      <td>14</td>\n",
       "      <td>289700</td>\n",
       "      <td>4.83</td>\n",
       "      <td>796</td>\n",
       "      <td>4</td>\n",
       "      <td>0</td>\n",
       "      <td>0</td>\n",
       "    </tr>\n",
       "    <tr>\n",
       "      <th>3</th>\n",
       "      <td>Albania</td>\n",
       "      <td>1987</td>\n",
       "      <td>1</td>\n",
       "      <td>80</td>\n",
       "      <td>1</td>\n",
       "      <td>21800</td>\n",
       "      <td>4.59</td>\n",
       "      <td>796</td>\n",
       "      <td>1</td>\n",
       "      <td>0</td>\n",
       "      <td>0</td>\n",
       "    </tr>\n",
       "    <tr>\n",
       "      <th>4</th>\n",
       "      <td>Albania</td>\n",
       "      <td>1987</td>\n",
       "      <td>1</td>\n",
       "      <td>30</td>\n",
       "      <td>9</td>\n",
       "      <td>274300</td>\n",
       "      <td>3.28</td>\n",
       "      <td>796</td>\n",
       "      <td>3</td>\n",
       "      <td>0</td>\n",
       "      <td>0</td>\n",
       "    </tr>\n",
       "  </tbody>\n",
       "</table>\n",
       "</div>"
      ],
      "text/plain": [
       "   country  year  sex  age  suicides_no  population  suicides/100k pop  \\\n",
       "0  Albania  1987    1   20           21      312900               6.71   \n",
       "1  Albania  1987    1   45           16      308000               5.19   \n",
       "2  Albania  1987    0   20           14      289700               4.83   \n",
       "3  Albania  1987    1   80            1       21800               4.59   \n",
       "4  Albania  1987    1   30            9      274300               3.28   \n",
       "\n",
       "   gdp_per_capita  generation  target  country_cat  \n",
       "0             796           4       0            0  \n",
       "1             796           2       0            0  \n",
       "2             796           4       0            0  \n",
       "3             796           1       0            0  \n",
       "4             796           3       0            0  "
      ]
     },
     "execution_count": 25,
     "metadata": {},
     "output_type": "execute_result"
    }
   ],
   "source": [
    "y = df[\"target\"]\n",
    "le = LabelEncoder()\n",
    "df['country_cat'] = le.fit_transform(df['country'])\n",
    "df_copy = df.drop(columns=[\"target\", \"country\"])\n",
    "df_copy = df_copy.loc[:, df_copy.columns != \"suicides/100k pop\"]\n",
    "X = np.array(df_copy)\n",
    "y = np.array(y)\n",
    "df.head()"
   ]
  },
  {
   "cell_type": "markdown",
   "metadata": {},
   "source": [
    "### 4. Evaluate (and report) the model performance(s) using some of the standard techniques (e.g. 80-20 split, 10-fold cross validation, etc.)"
   ]
  },
  {
   "cell_type": "markdown",
   "metadata": {},
   "source": [
    "Let's check how our classifiers perform with kfold function, which uses StratifiedKFold method from sklearn and split function, which uses train_test_split."
   ]
  },
  {
   "cell_type": "markdown",
   "metadata": {},
   "source": [
    "#### Random Forest Classifier"
   ]
  },
  {
   "cell_type": "code",
   "execution_count": 26,
   "metadata": {},
   "outputs": [
    {
     "name": "stdout",
     "output_type": "stream",
     "text": [
      "Percentage Accuracy of Random Forest Classifier Using StratifiedKFold: 91.355%\n"
     ]
    }
   ],
   "source": [
    "rfc_kfold, accuracy = kfold(rfc, X, y)\n",
    "print(\"Percentage Accuracy of Random Forest Classifier Using StratifiedKFold: {0:.3f}%\".format(accuracy * 100))"
   ]
  },
  {
   "cell_type": "markdown",
   "metadata": {},
   "source": [
    "A very high level of accuracy here. "
   ]
  },
  {
   "cell_type": "code",
   "execution_count": 27,
   "metadata": {},
   "outputs": [
    {
     "name": "stdout",
     "output_type": "stream",
     "text": [
      "Percentage Accuracy of Random Forest Classifier Using train_test_split: 91.733%\n"
     ]
    }
   ],
   "source": [
    "rfc_split, accuracy = split(rfc, X, y)\n",
    "print(\"Percentage Accuracy of Random Forest Classifier Using train_test_split: {0:.3f}%\".format(accuracy * 100))"
   ]
  },
  {
   "cell_type": "markdown",
   "metadata": {},
   "source": [
    "In both cases we obtain a high level of accuracy. We will stick with Random Forest Classifier in answering rest of the questions, however it is still worth finding out what how our other classifier performs."
   ]
  },
  {
   "cell_type": "markdown",
   "metadata": {},
   "source": [
    "#### Naive Bayes Classifier"
   ]
  },
  {
   "cell_type": "code",
   "execution_count": 28,
   "metadata": {},
   "outputs": [
    {
     "name": "stdout",
     "output_type": "stream",
     "text": [
      "Percentage Accuracy of Random Forest Classifier Using StratifiedKFold: 82.175%\n"
     ]
    }
   ],
   "source": [
    "nbc_kfold, accuracy = kfold(nbc, X, y)\n",
    "print(\"Percentage Accuracy of Random Forest Classifier Using StratifiedKFold: {0:.3f}%\".format(accuracy * 100))"
   ]
  },
  {
   "cell_type": "code",
   "execution_count": 29,
   "metadata": {},
   "outputs": [
    {
     "name": "stdout",
     "output_type": "stream",
     "text": [
      "Percentage Accuracy of Random Forest Classifier Using StratifiedKFold: 82.495%\n"
     ]
    }
   ],
   "source": [
    "nbc_split, accuracy = split(nbc, X, y)\n",
    "print(\"Percentage Accuracy of Random Forest Classifier Using StratifiedKFold: {0:.3f}%\".format(accuracy * 100))"
   ]
  },
  {
   "cell_type": "markdown",
   "metadata": {},
   "source": [
    "As we can see Naive Bayes does not perform as well as the Random Forest Classifier. Therefore, in this instance Random Forest Classifier outshines Naibe Bayes."
   ]
  },
  {
   "cell_type": "markdown",
   "metadata": {},
   "source": [
    "#### Problem"
   ]
  },
  {
   "cell_type": "markdown",
   "metadata": {},
   "source": [
    "Our goal is to solve a problem. In answer to question 3 we built classifiers that we want to use to solve our problem, let say that our problem is the following: \n",
    "\n",
    "What is the suicide risk of a **40** year old **male** living in **Lithuania** in **1999**?"
   ]
  },
  {
   "cell_type": "code",
   "execution_count": 30,
   "metadata": {},
   "outputs": [
    {
     "data": {
      "text/html": [
       "<div>\n",
       "<style scoped>\n",
       "    .dataframe tbody tr th:only-of-type {\n",
       "        vertical-align: middle;\n",
       "    }\n",
       "\n",
       "    .dataframe tbody tr th {\n",
       "        vertical-align: top;\n",
       "    }\n",
       "\n",
       "    .dataframe thead th {\n",
       "        text-align: right;\n",
       "    }\n",
       "</style>\n",
       "<table border=\"1\" class=\"dataframe\">\n",
       "  <thead>\n",
       "    <tr style=\"text-align: right;\">\n",
       "      <th></th>\n",
       "      <th>year</th>\n",
       "      <th>sex</th>\n",
       "      <th>age</th>\n",
       "      <th>suicides_no</th>\n",
       "      <th>population</th>\n",
       "      <th>gdp_per_capita</th>\n",
       "      <th>generation</th>\n",
       "      <th>country_cat</th>\n",
       "    </tr>\n",
       "  </thead>\n",
       "  <tbody>\n",
       "    <tr>\n",
       "      <th>0</th>\n",
       "      <td>1987</td>\n",
       "      <td>1</td>\n",
       "      <td>20</td>\n",
       "      <td>21</td>\n",
       "      <td>312900</td>\n",
       "      <td>796</td>\n",
       "      <td>4</td>\n",
       "      <td>0</td>\n",
       "    </tr>\n",
       "    <tr>\n",
       "      <th>1</th>\n",
       "      <td>1987</td>\n",
       "      <td>1</td>\n",
       "      <td>45</td>\n",
       "      <td>16</td>\n",
       "      <td>308000</td>\n",
       "      <td>796</td>\n",
       "      <td>2</td>\n",
       "      <td>0</td>\n",
       "    </tr>\n",
       "    <tr>\n",
       "      <th>2</th>\n",
       "      <td>1987</td>\n",
       "      <td>0</td>\n",
       "      <td>20</td>\n",
       "      <td>14</td>\n",
       "      <td>289700</td>\n",
       "      <td>796</td>\n",
       "      <td>4</td>\n",
       "      <td>0</td>\n",
       "    </tr>\n",
       "    <tr>\n",
       "      <th>3</th>\n",
       "      <td>1987</td>\n",
       "      <td>1</td>\n",
       "      <td>80</td>\n",
       "      <td>1</td>\n",
       "      <td>21800</td>\n",
       "      <td>796</td>\n",
       "      <td>1</td>\n",
       "      <td>0</td>\n",
       "    </tr>\n",
       "    <tr>\n",
       "      <th>4</th>\n",
       "      <td>1987</td>\n",
       "      <td>1</td>\n",
       "      <td>30</td>\n",
       "      <td>9</td>\n",
       "      <td>274300</td>\n",
       "      <td>796</td>\n",
       "      <td>3</td>\n",
       "      <td>0</td>\n",
       "    </tr>\n",
       "  </tbody>\n",
       "</table>\n",
       "</div>"
      ],
      "text/plain": [
       "   year  sex  age  suicides_no  population  gdp_per_capita  generation  \\\n",
       "0  1987    1   20           21      312900             796           4   \n",
       "1  1987    1   45           16      308000             796           2   \n",
       "2  1987    0   20           14      289700             796           4   \n",
       "3  1987    1   80            1       21800             796           1   \n",
       "4  1987    1   30            9      274300             796           3   \n",
       "\n",
       "   country_cat  \n",
       "0            0  \n",
       "1            0  \n",
       "2            0  \n",
       "3            0  \n",
       "4            0  "
      ]
     },
     "execution_count": 30,
     "metadata": {},
     "output_type": "execute_result"
    }
   ],
   "source": [
    "df_copy.head()"
   ]
  },
  {
   "cell_type": "code",
   "execution_count": 31,
   "metadata": {},
   "outputs": [],
   "source": [
    "def predictor(df, clf, le, year, sex, age, suicides_no=None, population=None, gdp_per_capita=None, generation=None, country=None, probability=False):\n",
    "    generation_dict = {'G.I. Generation':1, 'Silent':2, 'Boomers':3, 'Generation X':4, 'Millenials':5, 'Generation Z':6}\n",
    "    \n",
    "    if generation:\n",
    "        generation = generation_dict[generation]\n",
    "    \n",
    "    if sex == 'male': \n",
    "        sex = 1\n",
    "    elif sex == 'female':\n",
    "        sex = 0\n",
    "        \n",
    "    if country is None:\n",
    "        X = []\n",
    "        for country_cat in range(101):\n",
    "            temp = []\n",
    "            c = df.loc[(df[\"year\"] == year) & (df[\"sex\"] == sex) & (df[\"age\"] <= age) & (df[\"country_cat\"] == country_cat)].mean()\n",
    "            suicides_no = float(c[3])\n",
    "            population = float(c[4])\n",
    "            gdp_per_capita = float(c[5])\n",
    "            generation = float(c[6])\n",
    "            country = country_cat\n",
    "            if not math.isnan(suicides_no) and not math.isnan(population) and not math.isnan(gdp_per_capita) and not math.isnan(generation):\n",
    "                temp.append(year)\n",
    "                temp.append(sex)\n",
    "                temp.append(age)\n",
    "                temp.append(suicides_no)\n",
    "                temp.append(population)\n",
    "                temp.append(gdp_per_capita)\n",
    "                temp.append(generation)\n",
    "                temp.append(country_cat)\n",
    "                X.append(temp)\n",
    "        predictions = []\n",
    "        \n",
    "        if probability:\n",
    "            for x in X:\n",
    "                prediction = clf.predict_log_proba([x])\n",
    "                predictions.append(prediction)\n",
    "            return np.mean(predictions)\n",
    "        else:\n",
    "            for x in X:\n",
    "                prediction = clf.predict([x])\n",
    "                predictions.append(prediction)\n",
    "            \n",
    "            return stats.mode(predictions)[0][0][0]\n",
    "    \n",
    "    else:\n",
    "        \n",
    "        X = [year, sex, age]\n",
    "        \n",
    "        if suicides_no is None:\n",
    "            mean = df.loc[(df[\"year\"] == year) & (df[\"sex\"] == sex) & (df[\"age\"] <= age)]['suicides_no'].mean()\n",
    "            X.append(mean)\n",
    "        else:\n",
    "            X.append(suicides_no)\n",
    "            \n",
    "        if population is None:\n",
    "            mean = df.loc[(df[\"year\"] == year) & (df[\"sex\"] == sex) & (df[\"age\"] <= age)]['population'].mean()\n",
    "            X.append(mean)\n",
    "        else:\n",
    "            X.append(population)\n",
    "            \n",
    "        if gdp_per_capita is None:\n",
    "            mean = df.loc[(df[\"year\"] == year) & (df[\"sex\"] == sex) & (df[\"age\"] <= age)]['gdp_per_capita'].mean()\n",
    "            X.append(mean)\n",
    "        else:\n",
    "            X.append(gdp_per_capita)\n",
    "            \n",
    "        if generation is None:\n",
    "            mean = df.loc[(df[\"year\"] == year) & (df[\"sex\"] == sex) & (df[\"age\"] <= age)]['generation'].mean()\n",
    "            X.append(mean)\n",
    "        else:\n",
    "            X.append(generation)\n",
    "\n",
    "        X.append(le.fit_transform([country])[0])\n",
    "                \n",
    "        return clf.predict_log_proba([X]) if probability else clf.predict([X])\n",
    "    "
   ]
  },
  {
   "cell_type": "code",
   "execution_count": 32,
   "metadata": {},
   "outputs": [
    {
     "name": "stdout",
     "output_type": "stream",
     "text": [
      "Suicide risk of a 40 year old male living in Lithuania in 1999 is: Low\n"
     ]
    }
   ],
   "source": [
    "prediction = predictor(df, rfc_kfold, le, year=1999, sex='male', age=40, country=\"Lithuania\")[0]\n",
    "print(\"Suicide risk of a 40 year old male living in Lithuania in 1999 is: {}\".format('Low' if prediction == 0 else 'High'))"
   ]
  },
  {
   "cell_type": "markdown",
   "metadata": {},
   "source": [
    "So we predict that suicide risk of a 40 year old male living in Lithuania in 1999 is low."
   ]
  },
  {
   "cell_type": "markdown",
   "metadata": {},
   "source": [
    "### 5. Using your classifier model, what is the predicted category of your dependent variable for the input: \"year=2000, generation=Generation X, age=20, gender=male\" ?"
   ]
  },
  {
   "cell_type": "code",
   "execution_count": 33,
   "metadata": {},
   "outputs": [
    {
     "name": "stdout",
     "output_type": "stream",
     "text": [
      "Predicted category of the dependent variable for the input: 'year=2000, generation=Generation X, age=20, gender=male' is: Low\n"
     ]
    }
   ],
   "source": [
    "prediction = predictor(df, rfc_kfold, le, year=2000, generation='Generation X', age=20, sex='male')\n",
    "print(\"Predicted category of the dependent variable for the input: 'year=2000, generation=Generation X, age=20, gender=male' is: {}\".format('Low' if prediction == 0 else 'High'))"
   ]
  },
  {
   "cell_type": "markdown",
   "metadata": {},
   "source": [
    "This seems to be the case because note that vast majority of the data has been classified as low. We have to contend with the fact that we have focused our energies towards the highest ranking countries. However, there are 101 countries in our dataset, and only a handful of countries are listed frequently for high rates."
   ]
  },
  {
   "cell_type": "markdown",
   "metadata": {},
   "source": [
    "### 6. Using your(perhaps a different?) model, what is the actual probability of a \"Generation X 20-year-old male living in a country with 40000 gdp_per_capita\" would commit suicide?"
   ]
  },
  {
   "cell_type": "markdown",
   "metadata": {},
   "source": [
    "The above model was designed with this question in mind, and therefore, we attempt to make a prediction and see what probability we get. We will then attempt to verify this probability."
   ]
  },
  {
   "cell_type": "code",
   "execution_count": 34,
   "metadata": {},
   "outputs": [
    {
     "name": "stdout",
     "output_type": "stream",
     "text": [
      "Probability of a Generation X 20-year-old male in year 2000 would commit suicide is: 0.0000044\n"
     ]
    }
   ],
   "source": [
    "prediction = predictor(df, rfc_kfold, le, year=1995, generation='G.I. Generation', age=70, sex='male', probability=True)\n",
    "print(\"Probability of a Generation X 20-year-old male in year 2000 would commit suicide is: {0:.7f}\".format(np.exp(prediction)/100000))"
   ]
  },
  {
   "cell_type": "code",
   "execution_count": 35,
   "metadata": {},
   "outputs": [],
   "source": [
    "predictions = []\n",
    "years = df['year'].unique()\n",
    "for year in years:\n",
    "    prediction = predictor(df, rfc_kfold, le, year=year, generation='Generation X', age=20, sex='male', gdp_per_capita=40000, probability=True)\n",
    "    predictions.append(prediction)"
   ]
  },
  {
   "cell_type": "code",
   "execution_count": 36,
   "metadata": {},
   "outputs": [
    {
     "name": "stdout",
     "output_type": "stream",
     "text": [
      "Probability of a Generation X 20-year-old male living in a country with 40000 gdp_per_capita would commit suicide is: 0.0000033\n"
     ]
    }
   ],
   "source": [
    "print(\"Probability of a Generation X 20-year-old male living in a country with 40000 gdp_per_capita would commit suicide is: {0:.7f}\".format(np.exp(np.mean(predictions))/100000))"
   ]
  },
  {
   "cell_type": "markdown",
   "metadata": {},
   "source": [
    "Let's test to see what the probability is for a person if they are Gen X living in a country with a GDP/capita of 40,000."
   ]
  },
  {
   "cell_type": "code",
   "execution_count": 37,
   "metadata": {},
   "outputs": [],
   "source": [
    "predictions = []\n",
    "years = df['year'].unique()\n",
    "for year in years:\n",
    "    prediction = predictor(df, rfc_kfold, le, year=year, generation='Generation X', age=40, sex='male', gdp_per_capita=40000, probability=True)\n",
    "    predictions.append(prediction)"
   ]
  },
  {
   "cell_type": "code",
   "execution_count": 38,
   "metadata": {},
   "outputs": [
    {
     "name": "stdout",
     "output_type": "stream",
     "text": [
      "Probability of a Generation X 40-year-old male living in a country with 40000 gdp_per_capita would commit suicide is: 0.0000041\n"
     ]
    }
   ],
   "source": [
    "print(\"Probability of a Generation X 40-year-old male living in a country with 40000 gdp_per_capita would commit suicide is: {0:.7f}\".format(np.exp(np.mean(predictions))/100000))"
   ]
  },
  {
   "cell_type": "markdown",
   "metadata": {},
   "source": [
    "We see here that the probability for this person has gone up as they have aged to 0.413. We should be concerned as the probability is increasing."
   ]
  }
 ],
 "metadata": {
  "kernelspec": {
   "display_name": "Python 3",
   "language": "python",
   "name": "python3"
  },
  "language_info": {
   "codemirror_mode": {
    "name": "ipython",
    "version": 3
   },
   "file_extension": ".py",
   "mimetype": "text/x-python",
   "name": "python",
   "nbconvert_exporter": "python",
   "pygments_lexer": "ipython3",
   "version": "3.8.5"
  }
 },
 "nbformat": 4,
 "nbformat_minor": 4
}
