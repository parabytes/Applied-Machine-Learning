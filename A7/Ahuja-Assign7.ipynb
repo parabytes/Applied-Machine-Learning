{
 "cells": [
  {
   "cell_type": "markdown",
   "metadata": {},
   "source": [
    "# Assigment 7 | Applied Machine Learning | Paras Ahuja"
   ]
  },
  {
   "cell_type": "markdown",
   "metadata": {},
   "source": [
    "### Continuing to the previous machine learning problem, let's get back to the pre-processed dataset Suicide Rates Overview 1985 to 2016 file. We would like to have a machine learning model to predict the suicide rate 'suicides/100k pop'."
   ]
  },
  {
   "cell_type": "code",
   "execution_count": 1,
   "metadata": {},
   "outputs": [],
   "source": [
    "import pandas as pd\n",
    "import numpy as np\n",
    "import seaborn as sns\n",
    "import matplotlib.pyplot as plt\n",
    "from sklearn.linear_model import LinearRegression\n",
    "from sklearn.metrics import make_scorer as ms, mean_absolute_error as mae, mean_squared_error as mse\n",
    "from sklearn.model_selection import cross_validate, StratifiedKFold, train_test_split\n",
    "from sklearn.preprocessing import LabelEncoder, LabelBinarizer"
   ]
  },
  {
   "cell_type": "code",
   "execution_count": 2,
   "metadata": {},
   "outputs": [
    {
     "data": {
      "text/html": [
       "<div>\n",
       "<style scoped>\n",
       "    .dataframe tbody tr th:only-of-type {\n",
       "        vertical-align: middle;\n",
       "    }\n",
       "\n",
       "    .dataframe tbody tr th {\n",
       "        vertical-align: top;\n",
       "    }\n",
       "\n",
       "    .dataframe thead th {\n",
       "        text-align: right;\n",
       "    }\n",
       "</style>\n",
       "<table border=\"1\" class=\"dataframe\">\n",
       "  <thead>\n",
       "    <tr style=\"text-align: right;\">\n",
       "      <th></th>\n",
       "      <th>country</th>\n",
       "      <th>year</th>\n",
       "      <th>sex</th>\n",
       "      <th>age</th>\n",
       "      <th>suicides_no</th>\n",
       "      <th>population</th>\n",
       "      <th>suicides/100k pop</th>\n",
       "      <th>country-year</th>\n",
       "      <th>HDI for year</th>\n",
       "      <th>gdp_for_year ($)</th>\n",
       "      <th>gdp_per_capita ($)</th>\n",
       "      <th>generation</th>\n",
       "    </tr>\n",
       "  </thead>\n",
       "  <tbody>\n",
       "    <tr>\n",
       "      <th>0</th>\n",
       "      <td>Albania</td>\n",
       "      <td>1987</td>\n",
       "      <td>male</td>\n",
       "      <td>15-24 years</td>\n",
       "      <td>21</td>\n",
       "      <td>312900</td>\n",
       "      <td>6.71</td>\n",
       "      <td>Albania1987</td>\n",
       "      <td>NaN</td>\n",
       "      <td>2,156,624,900</td>\n",
       "      <td>796</td>\n",
       "      <td>Generation X</td>\n",
       "    </tr>\n",
       "    <tr>\n",
       "      <th>1</th>\n",
       "      <td>Albania</td>\n",
       "      <td>1987</td>\n",
       "      <td>male</td>\n",
       "      <td>35-54 years</td>\n",
       "      <td>16</td>\n",
       "      <td>308000</td>\n",
       "      <td>5.19</td>\n",
       "      <td>Albania1987</td>\n",
       "      <td>NaN</td>\n",
       "      <td>2,156,624,900</td>\n",
       "      <td>796</td>\n",
       "      <td>Silent</td>\n",
       "    </tr>\n",
       "    <tr>\n",
       "      <th>2</th>\n",
       "      <td>Albania</td>\n",
       "      <td>1987</td>\n",
       "      <td>female</td>\n",
       "      <td>15-24 years</td>\n",
       "      <td>14</td>\n",
       "      <td>289700</td>\n",
       "      <td>4.83</td>\n",
       "      <td>Albania1987</td>\n",
       "      <td>NaN</td>\n",
       "      <td>2,156,624,900</td>\n",
       "      <td>796</td>\n",
       "      <td>Generation X</td>\n",
       "    </tr>\n",
       "    <tr>\n",
       "      <th>3</th>\n",
       "      <td>Albania</td>\n",
       "      <td>1987</td>\n",
       "      <td>male</td>\n",
       "      <td>75+ years</td>\n",
       "      <td>1</td>\n",
       "      <td>21800</td>\n",
       "      <td>4.59</td>\n",
       "      <td>Albania1987</td>\n",
       "      <td>NaN</td>\n",
       "      <td>2,156,624,900</td>\n",
       "      <td>796</td>\n",
       "      <td>G.I. Generation</td>\n",
       "    </tr>\n",
       "    <tr>\n",
       "      <th>4</th>\n",
       "      <td>Albania</td>\n",
       "      <td>1987</td>\n",
       "      <td>male</td>\n",
       "      <td>25-34 years</td>\n",
       "      <td>9</td>\n",
       "      <td>274300</td>\n",
       "      <td>3.28</td>\n",
       "      <td>Albania1987</td>\n",
       "      <td>NaN</td>\n",
       "      <td>2,156,624,900</td>\n",
       "      <td>796</td>\n",
       "      <td>Boomers</td>\n",
       "    </tr>\n",
       "  </tbody>\n",
       "</table>\n",
       "</div>"
      ],
      "text/plain": [
       "   country  year     sex          age  suicides_no  population  \\\n",
       "0  Albania  1987    male  15-24 years           21      312900   \n",
       "1  Albania  1987    male  35-54 years           16      308000   \n",
       "2  Albania  1987  female  15-24 years           14      289700   \n",
       "3  Albania  1987    male    75+ years            1       21800   \n",
       "4  Albania  1987    male  25-34 years            9      274300   \n",
       "\n",
       "   suicides/100k pop country-year  HDI for year  gdp_for_year ($)   \\\n",
       "0               6.71  Albania1987           NaN      2,156,624,900   \n",
       "1               5.19  Albania1987           NaN      2,156,624,900   \n",
       "2               4.83  Albania1987           NaN      2,156,624,900   \n",
       "3               4.59  Albania1987           NaN      2,156,624,900   \n",
       "4               3.28  Albania1987           NaN      2,156,624,900   \n",
       "\n",
       "   gdp_per_capita ($)       generation  \n",
       "0                 796     Generation X  \n",
       "1                 796           Silent  \n",
       "2                 796     Generation X  \n",
       "3                 796  G.I. Generation  \n",
       "4                 796          Boomers  "
      ]
     },
     "execution_count": 2,
     "metadata": {},
     "output_type": "execute_result"
    }
   ],
   "source": [
    "df = pd.read_csv('master.csv')\n",
    "df.head()"
   ]
  },
  {
   "cell_type": "code",
   "execution_count": 3,
   "metadata": {},
   "outputs": [
    {
     "data": {
      "text/html": [
       "<div>\n",
       "<style scoped>\n",
       "    .dataframe tbody tr th:only-of-type {\n",
       "        vertical-align: middle;\n",
       "    }\n",
       "\n",
       "    .dataframe tbody tr th {\n",
       "        vertical-align: top;\n",
       "    }\n",
       "\n",
       "    .dataframe thead th {\n",
       "        text-align: right;\n",
       "    }\n",
       "</style>\n",
       "<table border=\"1\" class=\"dataframe\">\n",
       "  <thead>\n",
       "    <tr style=\"text-align: right;\">\n",
       "      <th></th>\n",
       "      <th>country</th>\n",
       "      <th>year</th>\n",
       "      <th>sex</th>\n",
       "      <th>age</th>\n",
       "      <th>suicides_no</th>\n",
       "      <th>population</th>\n",
       "      <th>suicides/100k pop</th>\n",
       "      <th>country-year</th>\n",
       "      <th>HDI for year</th>\n",
       "      <th>gdp_for_year</th>\n",
       "      <th>gdp_per_capita</th>\n",
       "      <th>generation</th>\n",
       "    </tr>\n",
       "  </thead>\n",
       "  <tbody>\n",
       "    <tr>\n",
       "      <th>0</th>\n",
       "      <td>Albania</td>\n",
       "      <td>1987</td>\n",
       "      <td>male</td>\n",
       "      <td>15-24 years</td>\n",
       "      <td>21</td>\n",
       "      <td>312900</td>\n",
       "      <td>6.71</td>\n",
       "      <td>Albania1987</td>\n",
       "      <td>NaN</td>\n",
       "      <td>2,156,624,900</td>\n",
       "      <td>796</td>\n",
       "      <td>Generation X</td>\n",
       "    </tr>\n",
       "    <tr>\n",
       "      <th>1</th>\n",
       "      <td>Albania</td>\n",
       "      <td>1987</td>\n",
       "      <td>male</td>\n",
       "      <td>35-54 years</td>\n",
       "      <td>16</td>\n",
       "      <td>308000</td>\n",
       "      <td>5.19</td>\n",
       "      <td>Albania1987</td>\n",
       "      <td>NaN</td>\n",
       "      <td>2,156,624,900</td>\n",
       "      <td>796</td>\n",
       "      <td>Silent</td>\n",
       "    </tr>\n",
       "    <tr>\n",
       "      <th>2</th>\n",
       "      <td>Albania</td>\n",
       "      <td>1987</td>\n",
       "      <td>female</td>\n",
       "      <td>15-24 years</td>\n",
       "      <td>14</td>\n",
       "      <td>289700</td>\n",
       "      <td>4.83</td>\n",
       "      <td>Albania1987</td>\n",
       "      <td>NaN</td>\n",
       "      <td>2,156,624,900</td>\n",
       "      <td>796</td>\n",
       "      <td>Generation X</td>\n",
       "    </tr>\n",
       "    <tr>\n",
       "      <th>3</th>\n",
       "      <td>Albania</td>\n",
       "      <td>1987</td>\n",
       "      <td>male</td>\n",
       "      <td>75+ years</td>\n",
       "      <td>1</td>\n",
       "      <td>21800</td>\n",
       "      <td>4.59</td>\n",
       "      <td>Albania1987</td>\n",
       "      <td>NaN</td>\n",
       "      <td>2,156,624,900</td>\n",
       "      <td>796</td>\n",
       "      <td>G.I. Generation</td>\n",
       "    </tr>\n",
       "    <tr>\n",
       "      <th>4</th>\n",
       "      <td>Albania</td>\n",
       "      <td>1987</td>\n",
       "      <td>male</td>\n",
       "      <td>25-34 years</td>\n",
       "      <td>9</td>\n",
       "      <td>274300</td>\n",
       "      <td>3.28</td>\n",
       "      <td>Albania1987</td>\n",
       "      <td>NaN</td>\n",
       "      <td>2,156,624,900</td>\n",
       "      <td>796</td>\n",
       "      <td>Boomers</td>\n",
       "    </tr>\n",
       "  </tbody>\n",
       "</table>\n",
       "</div>"
      ],
      "text/plain": [
       "   country  year     sex          age  suicides_no  population  \\\n",
       "0  Albania  1987    male  15-24 years           21      312900   \n",
       "1  Albania  1987    male  35-54 years           16      308000   \n",
       "2  Albania  1987  female  15-24 years           14      289700   \n",
       "3  Albania  1987    male    75+ years            1       21800   \n",
       "4  Albania  1987    male  25-34 years            9      274300   \n",
       "\n",
       "   suicides/100k pop country-year  HDI for year   gdp_for_year  \\\n",
       "0               6.71  Albania1987           NaN  2,156,624,900   \n",
       "1               5.19  Albania1987           NaN  2,156,624,900   \n",
       "2               4.83  Albania1987           NaN  2,156,624,900   \n",
       "3               4.59  Albania1987           NaN  2,156,624,900   \n",
       "4               3.28  Albania1987           NaN  2,156,624,900   \n",
       "\n",
       "   gdp_per_capita       generation  \n",
       "0             796     Generation X  \n",
       "1             796           Silent  \n",
       "2             796     Generation X  \n",
       "3             796  G.I. Generation  \n",
       "4             796          Boomers  "
      ]
     },
     "execution_count": 3,
     "metadata": {},
     "output_type": "execute_result"
    }
   ],
   "source": [
    "df.rename(columns={\" gdp_for_year ($) \": \"gdp_for_year\", \"gdp_per_capita ($)\": \"gdp_per_capita\"}, inplace=True)\n",
    "df.head()"
   ]
  },
  {
   "cell_type": "code",
   "execution_count": 4,
   "metadata": {},
   "outputs": [
    {
     "data": {
      "text/html": [
       "<div>\n",
       "<style scoped>\n",
       "    .dataframe tbody tr th:only-of-type {\n",
       "        vertical-align: middle;\n",
       "    }\n",
       "\n",
       "    .dataframe tbody tr th {\n",
       "        vertical-align: top;\n",
       "    }\n",
       "\n",
       "    .dataframe thead th {\n",
       "        text-align: right;\n",
       "    }\n",
       "</style>\n",
       "<table border=\"1\" class=\"dataframe\">\n",
       "  <thead>\n",
       "    <tr style=\"text-align: right;\">\n",
       "      <th></th>\n",
       "      <th>year</th>\n",
       "      <th>sex</th>\n",
       "      <th>age</th>\n",
       "      <th>suicides/100k pop</th>\n",
       "      <th>gdp_per_capita</th>\n",
       "      <th>generation</th>\n",
       "    </tr>\n",
       "  </thead>\n",
       "  <tbody>\n",
       "    <tr>\n",
       "      <th>0</th>\n",
       "      <td>1987</td>\n",
       "      <td>male</td>\n",
       "      <td>15-24 years</td>\n",
       "      <td>6.71</td>\n",
       "      <td>796</td>\n",
       "      <td>Generation X</td>\n",
       "    </tr>\n",
       "    <tr>\n",
       "      <th>1</th>\n",
       "      <td>1987</td>\n",
       "      <td>male</td>\n",
       "      <td>35-54 years</td>\n",
       "      <td>5.19</td>\n",
       "      <td>796</td>\n",
       "      <td>Silent</td>\n",
       "    </tr>\n",
       "    <tr>\n",
       "      <th>2</th>\n",
       "      <td>1987</td>\n",
       "      <td>female</td>\n",
       "      <td>15-24 years</td>\n",
       "      <td>4.83</td>\n",
       "      <td>796</td>\n",
       "      <td>Generation X</td>\n",
       "    </tr>\n",
       "    <tr>\n",
       "      <th>3</th>\n",
       "      <td>1987</td>\n",
       "      <td>male</td>\n",
       "      <td>75+ years</td>\n",
       "      <td>4.59</td>\n",
       "      <td>796</td>\n",
       "      <td>G.I. Generation</td>\n",
       "    </tr>\n",
       "    <tr>\n",
       "      <th>4</th>\n",
       "      <td>1987</td>\n",
       "      <td>male</td>\n",
       "      <td>25-34 years</td>\n",
       "      <td>3.28</td>\n",
       "      <td>796</td>\n",
       "      <td>Boomers</td>\n",
       "    </tr>\n",
       "  </tbody>\n",
       "</table>\n",
       "</div>"
      ],
      "text/plain": [
       "   year     sex          age  suicides/100k pop  gdp_per_capita  \\\n",
       "0  1987    male  15-24 years               6.71             796   \n",
       "1  1987    male  35-54 years               5.19             796   \n",
       "2  1987  female  15-24 years               4.83             796   \n",
       "3  1987    male    75+ years               4.59             796   \n",
       "4  1987    male  25-34 years               3.28             796   \n",
       "\n",
       "        generation  \n",
       "0     Generation X  \n",
       "1           Silent  \n",
       "2     Generation X  \n",
       "3  G.I. Generation  \n",
       "4          Boomers  "
      ]
     },
     "execution_count": 4,
     "metadata": {},
     "output_type": "execute_result"
    }
   ],
   "source": [
    "df = df.drop(columns=[\"country\", \"suicides_no\", \"population\", \"country-year\", \"HDI for year\", \"gdp_for_year\"])\n",
    "df.head()"
   ]
  },
  {
   "cell_type": "code",
   "execution_count": 5,
   "metadata": {},
   "outputs": [
    {
     "data": {
      "text/html": [
       "<div>\n",
       "<style scoped>\n",
       "    .dataframe tbody tr th:only-of-type {\n",
       "        vertical-align: middle;\n",
       "    }\n",
       "\n",
       "    .dataframe tbody tr th {\n",
       "        vertical-align: top;\n",
       "    }\n",
       "\n",
       "    .dataframe thead th {\n",
       "        text-align: right;\n",
       "    }\n",
       "</style>\n",
       "<table border=\"1\" class=\"dataframe\">\n",
       "  <thead>\n",
       "    <tr style=\"text-align: right;\">\n",
       "      <th></th>\n",
       "      <th>year</th>\n",
       "      <th>sex</th>\n",
       "      <th>age</th>\n",
       "      <th>suicides/100k pop</th>\n",
       "      <th>gdp_per_capita</th>\n",
       "      <th>generation</th>\n",
       "    </tr>\n",
       "  </thead>\n",
       "  <tbody>\n",
       "    <tr>\n",
       "      <th>0</th>\n",
       "      <td>1987</td>\n",
       "      <td>1</td>\n",
       "      <td>15-24 years</td>\n",
       "      <td>6.71</td>\n",
       "      <td>796</td>\n",
       "      <td>Generation X</td>\n",
       "    </tr>\n",
       "    <tr>\n",
       "      <th>1</th>\n",
       "      <td>1987</td>\n",
       "      <td>1</td>\n",
       "      <td>35-54 years</td>\n",
       "      <td>5.19</td>\n",
       "      <td>796</td>\n",
       "      <td>Silent</td>\n",
       "    </tr>\n",
       "    <tr>\n",
       "      <th>2</th>\n",
       "      <td>1987</td>\n",
       "      <td>0</td>\n",
       "      <td>15-24 years</td>\n",
       "      <td>4.83</td>\n",
       "      <td>796</td>\n",
       "      <td>Generation X</td>\n",
       "    </tr>\n",
       "    <tr>\n",
       "      <th>3</th>\n",
       "      <td>1987</td>\n",
       "      <td>1</td>\n",
       "      <td>75+ years</td>\n",
       "      <td>4.59</td>\n",
       "      <td>796</td>\n",
       "      <td>G.I. Generation</td>\n",
       "    </tr>\n",
       "    <tr>\n",
       "      <th>4</th>\n",
       "      <td>1987</td>\n",
       "      <td>1</td>\n",
       "      <td>25-34 years</td>\n",
       "      <td>3.28</td>\n",
       "      <td>796</td>\n",
       "      <td>Boomers</td>\n",
       "    </tr>\n",
       "  </tbody>\n",
       "</table>\n",
       "</div>"
      ],
      "text/plain": [
       "   year  sex          age  suicides/100k pop  gdp_per_capita       generation\n",
       "0  1987    1  15-24 years               6.71             796     Generation X\n",
       "1  1987    1  35-54 years               5.19             796           Silent\n",
       "2  1987    0  15-24 years               4.83             796     Generation X\n",
       "3  1987    1    75+ years               4.59             796  G.I. Generation\n",
       "4  1987    1  25-34 years               3.28             796          Boomers"
      ]
     },
     "execution_count": 5,
     "metadata": {},
     "output_type": "execute_result"
    }
   ],
   "source": [
    "df['sex'] = df['sex'].replace({'female':0, 'male':1})\n",
    "df.head()"
   ]
  },
  {
   "cell_type": "code",
   "execution_count": 6,
   "metadata": {},
   "outputs": [
    {
     "data": {
      "text/html": [
       "<div>\n",
       "<style scoped>\n",
       "    .dataframe tbody tr th:only-of-type {\n",
       "        vertical-align: middle;\n",
       "    }\n",
       "\n",
       "    .dataframe tbody tr th {\n",
       "        vertical-align: top;\n",
       "    }\n",
       "\n",
       "    .dataframe thead th {\n",
       "        text-align: right;\n",
       "    }\n",
       "</style>\n",
       "<table border=\"1\" class=\"dataframe\">\n",
       "  <thead>\n",
       "    <tr style=\"text-align: right;\">\n",
       "      <th></th>\n",
       "      <th>year</th>\n",
       "      <th>sex</th>\n",
       "      <th>age</th>\n",
       "      <th>suicides/100k pop</th>\n",
       "      <th>gdp_per_capita</th>\n",
       "      <th>generation</th>\n",
       "    </tr>\n",
       "  </thead>\n",
       "  <tbody>\n",
       "    <tr>\n",
       "      <th>0</th>\n",
       "      <td>1987</td>\n",
       "      <td>1</td>\n",
       "      <td>15-24 years</td>\n",
       "      <td>6.71</td>\n",
       "      <td>796</td>\n",
       "      <td>Generation X</td>\n",
       "    </tr>\n",
       "    <tr>\n",
       "      <th>1</th>\n",
       "      <td>1987</td>\n",
       "      <td>1</td>\n",
       "      <td>35-54 years</td>\n",
       "      <td>5.19</td>\n",
       "      <td>796</td>\n",
       "      <td>Silent</td>\n",
       "    </tr>\n",
       "    <tr>\n",
       "      <th>2</th>\n",
       "      <td>1987</td>\n",
       "      <td>0</td>\n",
       "      <td>15-24 years</td>\n",
       "      <td>4.83</td>\n",
       "      <td>796</td>\n",
       "      <td>Generation X</td>\n",
       "    </tr>\n",
       "    <tr>\n",
       "      <th>3</th>\n",
       "      <td>1987</td>\n",
       "      <td>1</td>\n",
       "      <td>75+ years</td>\n",
       "      <td>4.59</td>\n",
       "      <td>796</td>\n",
       "      <td>G.I. Generation</td>\n",
       "    </tr>\n",
       "    <tr>\n",
       "      <th>4</th>\n",
       "      <td>1987</td>\n",
       "      <td>1</td>\n",
       "      <td>25-34 years</td>\n",
       "      <td>3.28</td>\n",
       "      <td>796</td>\n",
       "      <td>Boomers</td>\n",
       "    </tr>\n",
       "  </tbody>\n",
       "</table>\n",
       "</div>"
      ],
      "text/plain": [
       "   year  sex          age  suicides/100k pop  gdp_per_capita       generation\n",
       "0  1987    1  15-24 years               6.71             796     Generation X\n",
       "1  1987    1  35-54 years               5.19             796           Silent\n",
       "2  1987    0  15-24 years               4.83             796     Generation X\n",
       "3  1987    1    75+ years               4.59             796  G.I. Generation\n",
       "4  1987    1  25-34 years               3.28             796          Boomers"
      ]
     },
     "execution_count": 6,
     "metadata": {},
     "output_type": "execute_result"
    }
   ],
   "source": [
    "switch = df['suicides/100k pop']\n",
    "df.drop(labels=['suicides/100k pop'], axis=1, inplace = True)\n",
    "df.insert(3, 'suicides/100k pop', switch)\n",
    "df.head()"
   ]
  },
  {
   "cell_type": "code",
   "execution_count": 7,
   "metadata": {},
   "outputs": [
    {
     "data": {
      "text/html": [
       "<div>\n",
       "<style scoped>\n",
       "    .dataframe tbody tr th:only-of-type {\n",
       "        vertical-align: middle;\n",
       "    }\n",
       "\n",
       "    .dataframe tbody tr th {\n",
       "        vertical-align: top;\n",
       "    }\n",
       "\n",
       "    .dataframe thead th {\n",
       "        text-align: right;\n",
       "    }\n",
       "</style>\n",
       "<table border=\"1\" class=\"dataframe\">\n",
       "  <thead>\n",
       "    <tr style=\"text-align: right;\">\n",
       "      <th></th>\n",
       "      <th>year</th>\n",
       "      <th>sex</th>\n",
       "      <th>suicides/100k pop</th>\n",
       "      <th>gdp_per_capita</th>\n",
       "      <th>age_15-24 years</th>\n",
       "      <th>age_25-34 years</th>\n",
       "      <th>age_35-54 years</th>\n",
       "      <th>age_5-14 years</th>\n",
       "      <th>age_55-74 years</th>\n",
       "      <th>age_75+ years</th>\n",
       "      <th>generation_Boomers</th>\n",
       "      <th>generation_G.I. Generation</th>\n",
       "      <th>generation_Generation X</th>\n",
       "      <th>generation_Generation Z</th>\n",
       "      <th>generation_Millenials</th>\n",
       "      <th>generation_Silent</th>\n",
       "    </tr>\n",
       "  </thead>\n",
       "  <tbody>\n",
       "    <tr>\n",
       "      <th>0</th>\n",
       "      <td>1987</td>\n",
       "      <td>1</td>\n",
       "      <td>6.71</td>\n",
       "      <td>796</td>\n",
       "      <td>1</td>\n",
       "      <td>0</td>\n",
       "      <td>0</td>\n",
       "      <td>0</td>\n",
       "      <td>0</td>\n",
       "      <td>0</td>\n",
       "      <td>0</td>\n",
       "      <td>0</td>\n",
       "      <td>1</td>\n",
       "      <td>0</td>\n",
       "      <td>0</td>\n",
       "      <td>0</td>\n",
       "    </tr>\n",
       "    <tr>\n",
       "      <th>1</th>\n",
       "      <td>1987</td>\n",
       "      <td>1</td>\n",
       "      <td>5.19</td>\n",
       "      <td>796</td>\n",
       "      <td>0</td>\n",
       "      <td>0</td>\n",
       "      <td>1</td>\n",
       "      <td>0</td>\n",
       "      <td>0</td>\n",
       "      <td>0</td>\n",
       "      <td>0</td>\n",
       "      <td>0</td>\n",
       "      <td>0</td>\n",
       "      <td>0</td>\n",
       "      <td>0</td>\n",
       "      <td>1</td>\n",
       "    </tr>\n",
       "    <tr>\n",
       "      <th>2</th>\n",
       "      <td>1987</td>\n",
       "      <td>0</td>\n",
       "      <td>4.83</td>\n",
       "      <td>796</td>\n",
       "      <td>1</td>\n",
       "      <td>0</td>\n",
       "      <td>0</td>\n",
       "      <td>0</td>\n",
       "      <td>0</td>\n",
       "      <td>0</td>\n",
       "      <td>0</td>\n",
       "      <td>0</td>\n",
       "      <td>1</td>\n",
       "      <td>0</td>\n",
       "      <td>0</td>\n",
       "      <td>0</td>\n",
       "    </tr>\n",
       "    <tr>\n",
       "      <th>3</th>\n",
       "      <td>1987</td>\n",
       "      <td>1</td>\n",
       "      <td>4.59</td>\n",
       "      <td>796</td>\n",
       "      <td>0</td>\n",
       "      <td>0</td>\n",
       "      <td>0</td>\n",
       "      <td>0</td>\n",
       "      <td>0</td>\n",
       "      <td>1</td>\n",
       "      <td>0</td>\n",
       "      <td>1</td>\n",
       "      <td>0</td>\n",
       "      <td>0</td>\n",
       "      <td>0</td>\n",
       "      <td>0</td>\n",
       "    </tr>\n",
       "    <tr>\n",
       "      <th>4</th>\n",
       "      <td>1987</td>\n",
       "      <td>1</td>\n",
       "      <td>3.28</td>\n",
       "      <td>796</td>\n",
       "      <td>0</td>\n",
       "      <td>1</td>\n",
       "      <td>0</td>\n",
       "      <td>0</td>\n",
       "      <td>0</td>\n",
       "      <td>0</td>\n",
       "      <td>1</td>\n",
       "      <td>0</td>\n",
       "      <td>0</td>\n",
       "      <td>0</td>\n",
       "      <td>0</td>\n",
       "      <td>0</td>\n",
       "    </tr>\n",
       "  </tbody>\n",
       "</table>\n",
       "</div>"
      ],
      "text/plain": [
       "   year  sex  suicides/100k pop  gdp_per_capita  age_15-24 years  \\\n",
       "0  1987    1               6.71             796                1   \n",
       "1  1987    1               5.19             796                0   \n",
       "2  1987    0               4.83             796                1   \n",
       "3  1987    1               4.59             796                0   \n",
       "4  1987    1               3.28             796                0   \n",
       "\n",
       "   age_25-34 years  age_35-54 years  age_5-14 years  age_55-74 years  \\\n",
       "0                0                0               0                0   \n",
       "1                0                1               0                0   \n",
       "2                0                0               0                0   \n",
       "3                0                0               0                0   \n",
       "4                1                0               0                0   \n",
       "\n",
       "   age_75+ years  generation_Boomers  generation_G.I. Generation  \\\n",
       "0              0                   0                           0   \n",
       "1              0                   0                           0   \n",
       "2              0                   0                           0   \n",
       "3              1                   0                           1   \n",
       "4              0                   1                           0   \n",
       "\n",
       "   generation_Generation X  generation_Generation Z  generation_Millenials  \\\n",
       "0                        1                        0                      0   \n",
       "1                        0                        0                      0   \n",
       "2                        1                        0                      0   \n",
       "3                        0                        0                      0   \n",
       "4                        0                        0                      0   \n",
       "\n",
       "   generation_Silent  \n",
       "0                  0  \n",
       "1                  1  \n",
       "2                  0  \n",
       "3                  0  \n",
       "4                  0  "
      ]
     },
     "execution_count": 7,
     "metadata": {},
     "output_type": "execute_result"
    }
   ],
   "source": [
    "target = pd.DataFrame(data=[['15-24 years', 'male', 'Generation X']], columns=['age', 'sex', 'generation'])\n",
    "ohe = pd.get_dummies(df, columns=[\"age\", \"generation\"])\n",
    "ohe.head()"
   ]
  },
  {
   "cell_type": "code",
   "execution_count": 8,
   "metadata": {},
   "outputs": [
    {
     "data": {
      "text/html": [
       "<div>\n",
       "<style scoped>\n",
       "    .dataframe tbody tr th:only-of-type {\n",
       "        vertical-align: middle;\n",
       "    }\n",
       "\n",
       "    .dataframe tbody tr th {\n",
       "        vertical-align: top;\n",
       "    }\n",
       "\n",
       "    .dataframe thead th {\n",
       "        text-align: right;\n",
       "    }\n",
       "</style>\n",
       "<table border=\"1\" class=\"dataframe\">\n",
       "  <thead>\n",
       "    <tr style=\"text-align: right;\">\n",
       "      <th></th>\n",
       "      <th>year</th>\n",
       "      <th>sex</th>\n",
       "      <th>suicides/100k pop</th>\n",
       "      <th>gdp_per_capita</th>\n",
       "      <th>age_15-24 years</th>\n",
       "      <th>age_25-34 years</th>\n",
       "      <th>age_35-54 years</th>\n",
       "      <th>age_5-14 years</th>\n",
       "      <th>age_55-74 years</th>\n",
       "      <th>age_75+ years</th>\n",
       "      <th>generation_Boomers</th>\n",
       "      <th>generation_G.I. Generation</th>\n",
       "      <th>generation_Generation X</th>\n",
       "      <th>generation_Generation Z</th>\n",
       "      <th>generation_Millenials</th>\n",
       "      <th>generation_Silent</th>\n",
       "    </tr>\n",
       "  </thead>\n",
       "  <tbody>\n",
       "    <tr>\n",
       "      <th>0</th>\n",
       "      <td>1987</td>\n",
       "      <td>1</td>\n",
       "      <td>6.71</td>\n",
       "      <td>796</td>\n",
       "      <td>1</td>\n",
       "      <td>0</td>\n",
       "      <td>0</td>\n",
       "      <td>0</td>\n",
       "      <td>0</td>\n",
       "      <td>0</td>\n",
       "      <td>0</td>\n",
       "      <td>0</td>\n",
       "      <td>1</td>\n",
       "      <td>0</td>\n",
       "      <td>0</td>\n",
       "      <td>0</td>\n",
       "    </tr>\n",
       "    <tr>\n",
       "      <th>13</th>\n",
       "      <td>1988</td>\n",
       "      <td>1</td>\n",
       "      <td>5.33</td>\n",
       "      <td>769</td>\n",
       "      <td>1</td>\n",
       "      <td>0</td>\n",
       "      <td>0</td>\n",
       "      <td>0</td>\n",
       "      <td>0</td>\n",
       "      <td>0</td>\n",
       "      <td>0</td>\n",
       "      <td>0</td>\n",
       "      <td>1</td>\n",
       "      <td>0</td>\n",
       "      <td>0</td>\n",
       "      <td>0</td>\n",
       "    </tr>\n",
       "    <tr>\n",
       "      <th>28</th>\n",
       "      <td>1989</td>\n",
       "      <td>1</td>\n",
       "      <td>3.71</td>\n",
       "      <td>833</td>\n",
       "      <td>1</td>\n",
       "      <td>0</td>\n",
       "      <td>0</td>\n",
       "      <td>0</td>\n",
       "      <td>0</td>\n",
       "      <td>0</td>\n",
       "      <td>0</td>\n",
       "      <td>0</td>\n",
       "      <td>1</td>\n",
       "      <td>0</td>\n",
       "      <td>0</td>\n",
       "      <td>0</td>\n",
       "    </tr>\n",
       "    <tr>\n",
       "      <th>37</th>\n",
       "      <td>1992</td>\n",
       "      <td>1</td>\n",
       "      <td>3.41</td>\n",
       "      <td>251</td>\n",
       "      <td>1</td>\n",
       "      <td>0</td>\n",
       "      <td>0</td>\n",
       "      <td>0</td>\n",
       "      <td>0</td>\n",
       "      <td>0</td>\n",
       "      <td>0</td>\n",
       "      <td>0</td>\n",
       "      <td>1</td>\n",
       "      <td>0</td>\n",
       "      <td>0</td>\n",
       "      <td>0</td>\n",
       "    </tr>\n",
       "    <tr>\n",
       "      <th>48</th>\n",
       "      <td>1993</td>\n",
       "      <td>1</td>\n",
       "      <td>7.40</td>\n",
       "      <td>437</td>\n",
       "      <td>1</td>\n",
       "      <td>0</td>\n",
       "      <td>0</td>\n",
       "      <td>0</td>\n",
       "      <td>0</td>\n",
       "      <td>0</td>\n",
       "      <td>0</td>\n",
       "      <td>0</td>\n",
       "      <td>1</td>\n",
       "      <td>0</td>\n",
       "      <td>0</td>\n",
       "      <td>0</td>\n",
       "    </tr>\n",
       "  </tbody>\n",
       "</table>\n",
       "</div>"
      ],
      "text/plain": [
       "    year  sex  suicides/100k pop  gdp_per_capita  age_15-24 years  \\\n",
       "0   1987    1               6.71             796                1   \n",
       "13  1988    1               5.33             769                1   \n",
       "28  1989    1               3.71             833                1   \n",
       "37  1992    1               3.41             251                1   \n",
       "48  1993    1               7.40             437                1   \n",
       "\n",
       "    age_25-34 years  age_35-54 years  age_5-14 years  age_55-74 years  \\\n",
       "0                 0                0               0                0   \n",
       "13                0                0               0                0   \n",
       "28                0                0               0                0   \n",
       "37                0                0               0                0   \n",
       "48                0                0               0                0   \n",
       "\n",
       "    age_75+ years  generation_Boomers  generation_G.I. Generation  \\\n",
       "0               0                   0                           0   \n",
       "13              0                   0                           0   \n",
       "28              0                   0                           0   \n",
       "37              0                   0                           0   \n",
       "48              0                   0                           0   \n",
       "\n",
       "    generation_Generation X  generation_Generation Z  generation_Millenials  \\\n",
       "0                         1                        0                      0   \n",
       "13                        1                        0                      0   \n",
       "28                        1                        0                      0   \n",
       "37                        1                        0                      0   \n",
       "48                        1                        0                      0   \n",
       "\n",
       "    generation_Silent  \n",
       "0                   0  \n",
       "13                  0  \n",
       "28                  0  \n",
       "37                  0  \n",
       "48                  0  "
      ]
     },
     "execution_count": 8,
     "metadata": {},
     "output_type": "execute_result"
    }
   ],
   "source": [
    "targets = ohe.loc[(ohe['age_15-24 years'] == 1) & (ohe[\"sex\"] == 1) & (ohe[\"generation_Generation X\"] == 1)]\n",
    "targets.head()"
   ]
  },
  {
   "cell_type": "code",
   "execution_count": 9,
   "metadata": {},
   "outputs": [
    {
     "data": {
      "text/plain": [
       "(1057, 16)"
      ]
     },
     "execution_count": 9,
     "metadata": {},
     "output_type": "execute_result"
    }
   ],
   "source": [
    "targets.shape"
   ]
  },
  {
   "cell_type": "markdown",
   "metadata": {},
   "source": [
    "### 1. Keep the variables as one-hot encoded and develop a multiple linear regression model. Use your model to predict the target variable for the people with age 20, male, and generation X. What is the MAE error of this prediction? How many line coefficients are there?"
   ]
  },
  {
   "cell_type": "code",
   "execution_count": 10,
   "metadata": {},
   "outputs": [],
   "source": [
    "def mae(y, y_pred):\n",
    "    return (len(y)**-1) * np.sum(np.abs(y_pred - y))"
   ]
  },
  {
   "cell_type": "code",
   "execution_count": 11,
   "metadata": {},
   "outputs": [
    {
     "name": "stdout",
     "output_type": "stream",
     "text": [
      "(27820, 15) (27820,)\n"
     ]
    }
   ],
   "source": [
    "X = ohe.loc[:, ohe.columns != \"suicides/100k pop\"].values\n",
    "y = ohe.loc[:, ohe.columns == \"suicides/100k pop\"].values.ravel()\n",
    "print(X.shape, y.shape)"
   ]
  },
  {
   "cell_type": "code",
   "execution_count": 12,
   "metadata": {},
   "outputs": [
    {
     "name": "stdout",
     "output_type": "stream",
     "text": [
      "Model MAE: 10.155\n",
      "Model Regression Score: 0.296\n",
      "Number of Hyperplane Coefficients: 15.000\n"
     ]
    }
   ],
   "source": [
    "lr = LinearRegression()\n",
    "lr.fit(X, y)\n",
    "y_pred = lr.predict(X)\n",
    "print(\"Model MAE: {0:.3f}\".format(mae(y, y_pred)))\n",
    "print(\"Model Regression Score: {0:.3f}\".format(lr.score(X, y)))\n",
    "print(\"Number of Hyperplane Coefficients: {0:.3f}\".format(len(lr.coef_)))"
   ]
  },
  {
   "cell_type": "code",
   "execution_count": 13,
   "metadata": {},
   "outputs": [
    {
     "name": "stdout",
     "output_type": "stream",
     "text": [
      "(1, 15) [[2001.258    1.       0.167    1.       0.       0.       0.       0.\n",
      "     0.       0.       0.       1.       0.       0.       0.   ]]\n"
     ]
    }
   ],
   "source": [
    "year_mean, gdp_per_capita_mean = np.mean(X[:,0]), np.mean(X[:,3])\n",
    "X_test = np.array([year_mean, 1, gdp_per_capita_mean, 1, 0, 0, 0, 0, 0, 0, 0, 1, 0, 0, 0], ndmin=2)\n",
    "with np.printoptions(precision=3, suppress=True):\n",
    "    print(X_test.shape, X_test)"
   ]
  },
  {
   "cell_type": "code",
   "execution_count": 14,
   "metadata": {},
   "outputs": [
    {
     "name": "stdout",
     "output_type": "stream",
     "text": [
      "Prediction for Generation X 20 year old male: 15.875\n"
     ]
    }
   ],
   "source": [
    "y_test_pred = lr.predict(X_test)\n",
    "print(\"Prediction for Generation X 20 year old male: {0:.3f}\".format(y_test_pred[0]))"
   ]
  },
  {
   "cell_type": "code",
   "execution_count": 15,
   "metadata": {},
   "outputs": [
    {
     "name": "stdout",
     "output_type": "stream",
     "text": [
      "Given male, age 20, gen X, y average: 14.513\n"
     ]
    }
   ],
   "source": [
    "y_test_mean = targets.iloc[:,2].mean()\n",
    "print(\"Given male, age 20, gen X, y average: {0:.3f}\".format(y_test_mean))"
   ]
  },
  {
   "cell_type": "code",
   "execution_count": 16,
   "metadata": {},
   "outputs": [
    {
     "name": "stdout",
     "output_type": "stream",
     "text": [
      "Prediction MAE: 1.362\n"
     ]
    }
   ],
   "source": [
    "print(\"Prediction MAE: {0:.3f}\".format(mae(np.array(y_test_mean, ndmin=2), y_test_pred)))"
   ]
  },
  {
   "cell_type": "markdown",
   "metadata": {},
   "source": [
    "Predition MAE is 1.362 and model MAE is 10.155. We have 15 coefficients."
   ]
  },
  {
   "cell_type": "markdown",
   "metadata": {},
   "source": [
    "### 2. Now use the original sex, age and generation variables in numerical form and develop a new model. Use your model to predict the target value for the people with age 20, male, and generation X. What is the MAE error of this prediction? How many line coefficients are there? (Note that for this step you have to think of a way of encoding the original nominal age feature and generation feature into numerical features.)"
   ]
  },
  {
   "cell_type": "code",
   "execution_count": 17,
   "metadata": {},
   "outputs": [
    {
     "data": {
      "text/html": [
       "<div>\n",
       "<style scoped>\n",
       "    .dataframe tbody tr th:only-of-type {\n",
       "        vertical-align: middle;\n",
       "    }\n",
       "\n",
       "    .dataframe tbody tr th {\n",
       "        vertical-align: top;\n",
       "    }\n",
       "\n",
       "    .dataframe thead th {\n",
       "        text-align: right;\n",
       "    }\n",
       "</style>\n",
       "<table border=\"1\" class=\"dataframe\">\n",
       "  <thead>\n",
       "    <tr style=\"text-align: right;\">\n",
       "      <th></th>\n",
       "      <th>year</th>\n",
       "      <th>sex</th>\n",
       "      <th>age</th>\n",
       "      <th>suicides/100k pop</th>\n",
       "      <th>gdp_per_capita</th>\n",
       "      <th>generation</th>\n",
       "    </tr>\n",
       "  </thead>\n",
       "  <tbody>\n",
       "    <tr>\n",
       "      <th>0</th>\n",
       "      <td>1987</td>\n",
       "      <td>1</td>\n",
       "      <td>15-24 years</td>\n",
       "      <td>6.71</td>\n",
       "      <td>796</td>\n",
       "      <td>Generation X</td>\n",
       "    </tr>\n",
       "    <tr>\n",
       "      <th>1</th>\n",
       "      <td>1987</td>\n",
       "      <td>1</td>\n",
       "      <td>35-54 years</td>\n",
       "      <td>5.19</td>\n",
       "      <td>796</td>\n",
       "      <td>Silent</td>\n",
       "    </tr>\n",
       "    <tr>\n",
       "      <th>2</th>\n",
       "      <td>1987</td>\n",
       "      <td>0</td>\n",
       "      <td>15-24 years</td>\n",
       "      <td>4.83</td>\n",
       "      <td>796</td>\n",
       "      <td>Generation X</td>\n",
       "    </tr>\n",
       "    <tr>\n",
       "      <th>3</th>\n",
       "      <td>1987</td>\n",
       "      <td>1</td>\n",
       "      <td>75+ years</td>\n",
       "      <td>4.59</td>\n",
       "      <td>796</td>\n",
       "      <td>G.I. Generation</td>\n",
       "    </tr>\n",
       "    <tr>\n",
       "      <th>4</th>\n",
       "      <td>1987</td>\n",
       "      <td>1</td>\n",
       "      <td>25-34 years</td>\n",
       "      <td>3.28</td>\n",
       "      <td>796</td>\n",
       "      <td>Boomers</td>\n",
       "    </tr>\n",
       "  </tbody>\n",
       "</table>\n",
       "</div>"
      ],
      "text/plain": [
       "   year  sex          age  suicides/100k pop  gdp_per_capita       generation\n",
       "0  1987    1  15-24 years               6.71             796     Generation X\n",
       "1  1987    1  35-54 years               5.19             796           Silent\n",
       "2  1987    0  15-24 years               4.83             796     Generation X\n",
       "3  1987    1    75+ years               4.59             796  G.I. Generation\n",
       "4  1987    1  25-34 years               3.28             796          Boomers"
      ]
     },
     "execution_count": 17,
     "metadata": {},
     "output_type": "execute_result"
    }
   ],
   "source": [
    "df.head()"
   ]
  },
  {
   "cell_type": "code",
   "execution_count": 18,
   "metadata": {},
   "outputs": [
    {
     "data": {
      "text/html": [
       "<div>\n",
       "<style scoped>\n",
       "    .dataframe tbody tr th:only-of-type {\n",
       "        vertical-align: middle;\n",
       "    }\n",
       "\n",
       "    .dataframe tbody tr th {\n",
       "        vertical-align: top;\n",
       "    }\n",
       "\n",
       "    .dataframe thead th {\n",
       "        text-align: right;\n",
       "    }\n",
       "</style>\n",
       "<table border=\"1\" class=\"dataframe\">\n",
       "  <thead>\n",
       "    <tr style=\"text-align: right;\">\n",
       "      <th></th>\n",
       "      <th>year</th>\n",
       "      <th>sex</th>\n",
       "      <th>age</th>\n",
       "      <th>suicides/100k pop</th>\n",
       "      <th>gdp_per_capita</th>\n",
       "      <th>generation</th>\n",
       "    </tr>\n",
       "  </thead>\n",
       "  <tbody>\n",
       "    <tr>\n",
       "      <th>0</th>\n",
       "      <td>1987</td>\n",
       "      <td>1</td>\n",
       "      <td>20</td>\n",
       "      <td>6.71</td>\n",
       "      <td>796</td>\n",
       "      <td>4</td>\n",
       "    </tr>\n",
       "    <tr>\n",
       "      <th>1</th>\n",
       "      <td>1987</td>\n",
       "      <td>1</td>\n",
       "      <td>45</td>\n",
       "      <td>5.19</td>\n",
       "      <td>796</td>\n",
       "      <td>2</td>\n",
       "    </tr>\n",
       "    <tr>\n",
       "      <th>2</th>\n",
       "      <td>1987</td>\n",
       "      <td>0</td>\n",
       "      <td>20</td>\n",
       "      <td>4.83</td>\n",
       "      <td>796</td>\n",
       "      <td>4</td>\n",
       "    </tr>\n",
       "    <tr>\n",
       "      <th>3</th>\n",
       "      <td>1987</td>\n",
       "      <td>1</td>\n",
       "      <td>80</td>\n",
       "      <td>4.59</td>\n",
       "      <td>796</td>\n",
       "      <td>1</td>\n",
       "    </tr>\n",
       "    <tr>\n",
       "      <th>4</th>\n",
       "      <td>1987</td>\n",
       "      <td>1</td>\n",
       "      <td>30</td>\n",
       "      <td>3.28</td>\n",
       "      <td>796</td>\n",
       "      <td>3</td>\n",
       "    </tr>\n",
       "  </tbody>\n",
       "</table>\n",
       "</div>"
      ],
      "text/plain": [
       "   year  sex  age  suicides/100k pop  gdp_per_capita  generation\n",
       "0  1987    1   20               6.71             796           4\n",
       "1  1987    1   45               5.19             796           2\n",
       "2  1987    0   20               4.83             796           4\n",
       "3  1987    1   80               4.59             796           1\n",
       "4  1987    1   30               3.28             796           3"
      ]
     },
     "execution_count": 18,
     "metadata": {},
     "output_type": "execute_result"
    }
   ],
   "source": [
    "generation = {\"G.I. Generation\": 1, \"Silent\": 2, \"Boomers\": 3, \"Generation X\": 4, \"Millenials\": 5, \"Generation Z\": 6}\n",
    "df[\"age\"] = df[\"age\"].replace({'5-14 years':10, '15-24 years':20, '25-34 years':30, '35-54 years':45, '55-74 years':65, '75+ years':80})\n",
    "df[\"generation\"] = df[\"generation\"].replace(generation)\n",
    "df.head()"
   ]
  },
  {
   "cell_type": "code",
   "execution_count": 19,
   "metadata": {},
   "outputs": [
    {
     "name": "stdout",
     "output_type": "stream",
     "text": [
      "(27820, 5) (27820,)\n"
     ]
    }
   ],
   "source": [
    "X = df.loc[:, df.columns != \"suicides/100k pop\"].values\n",
    "y = df.loc[:, df.columns == \"suicides/100k pop\"].values.ravel()\n",
    "print(X.shape, y.shape)"
   ]
  },
  {
   "cell_type": "code",
   "execution_count": 20,
   "metadata": {},
   "outputs": [
    {
     "name": "stdout",
     "output_type": "stream",
     "text": [
      "Model MAE: 10.321\n",
      "Model Regression Score: 0.280\n",
      "Number of Hyperplane Coefficients: 5.000\n"
     ]
    }
   ],
   "source": [
    "lr = LinearRegression()\n",
    "lr.fit(X, y)\n",
    "y_pred = lr.predict(X)\n",
    "print(\"Model MAE: {0:.3f}\".format(mae(y, y_pred)))\n",
    "print(\"Model Regression Score: {0:.3f}\".format(lr.score(X, y)))\n",
    "print(\"Number of Hyperplane Coefficients: {0:.3f}\".format(len(lr.coef_)))"
   ]
  },
  {
   "cell_type": "code",
   "execution_count": 21,
   "metadata": {},
   "outputs": [
    {
     "name": "stdout",
     "output_type": "stream",
     "text": [
      "(1, 5) [[2001.258    1.      20.       3.383    4.   ]]\n"
     ]
    }
   ],
   "source": [
    "year_mean, gdp_per_capita_mean = np.mean(X[:,0]), np.mean(X[:,4])\n",
    "X_test = np.array([year_mean, 1, 20, gdp_per_capita_mean, 4], ndmin=2)\n",
    "with np.printoptions(precision=3, suppress=True):\n",
    "    print(X_test.shape, X_test)"
   ]
  },
  {
   "cell_type": "code",
   "execution_count": 22,
   "metadata": {},
   "outputs": [
    {
     "name": "stdout",
     "output_type": "stream",
     "text": [
      "Prediction for Generation X 20 year old male: 14.075\n"
     ]
    }
   ],
   "source": [
    "y_test_pred = lr.predict(X_test)\n",
    "print(\"Prediction for Generation X 20 year old male: {0:.3f}\".format(y_test_pred[0]))"
   ]
  },
  {
   "cell_type": "code",
   "execution_count": 23,
   "metadata": {},
   "outputs": [
    {
     "data": {
      "text/plain": [
       "(1057, 6)"
      ]
     },
     "execution_count": 23,
     "metadata": {},
     "output_type": "execute_result"
    }
   ],
   "source": [
    "targets = df.loc[(df[\"age\"] == 20) & (df[\"generation\"] == 4) & (df[\"sex\"] == 1)]\n",
    "targets.shape"
   ]
  },
  {
   "cell_type": "code",
   "execution_count": 24,
   "metadata": {},
   "outputs": [
    {
     "name": "stdout",
     "output_type": "stream",
     "text": [
      "Given male, age 20, gen X, y average: 14.513\n"
     ]
    }
   ],
   "source": [
    "y_test_mean = targets.iloc[:,3].mean()\n",
    "print(\"Given male, age 20, gen X, y average: {0:.3f}\".format(y_test_mean))"
   ]
  },
  {
   "cell_type": "code",
   "execution_count": 25,
   "metadata": {},
   "outputs": [
    {
     "name": "stdout",
     "output_type": "stream",
     "text": [
      "Prediction MAE: 0.438\n"
     ]
    }
   ],
   "source": [
    "print(\"Prediction MAE: {0:.3f}\".format(mae(np.array(y_test_mean, ndmin=2), y_test_pred)))"
   ]
  },
  {
   "cell_type": "markdown",
   "metadata": {},
   "source": [
    "Predition MAE is 0.438 and model MAE is 10.321. We have 5 coefficients."
   ]
  },
  {
   "cell_type": "markdown",
   "metadata": {},
   "source": [
    "### 3. Did you note any change in these two model performances?"
   ]
  },
  {
   "cell_type": "markdown",
   "metadata": {},
   "source": [
    "There are a few things to note here. Firstly there are less number of coefficients when it comes to hyperplane dimensions, which seems to help. Note also that less number of coefficients will have less errors. We can witness this fact by comparing the MAE's. As we notice in our predictions above, the error between the average y and the predicted y is smaller. Lastly, conversion of nominal variables to numerical must be precise or we will be introducing errors."
   ]
  },
  {
   "cell_type": "markdown",
   "metadata": {},
   "source": [
    "### 4. What is the prediction for age 33, male and generation Alpha (i.e. the generation after generation Z)?"
   ]
  },
  {
   "cell_type": "markdown",
   "metadata": {},
   "source": [
    "Note that the generations we have only go up til number 6 (nominally speaking). In order to accomodate for Generation Alpha, we will use 7. "
   ]
  },
  {
   "cell_type": "code",
   "execution_count": 26,
   "metadata": {},
   "outputs": [
    {
     "name": "stdout",
     "output_type": "stream",
     "text": [
      "Prediction for Generation Alpha 33 year old male: 17.395\n"
     ]
    }
   ],
   "source": [
    "X_test = np.array([year_mean, 1, 33, gdp_per_capita_mean, 7], ndmin=2)\n",
    "y_test_pred = lr.predict(X_test)\n",
    "print(\"Prediction for Generation Alpha 33 year old male: {0:.3f}\".format(y_test_pred[0]))"
   ]
  },
  {
   "cell_type": "markdown",
   "metadata": {},
   "source": [
    "So we have that our prediction is 17.395 for age 33 male of generation Alpha."
   ]
  },
  {
   "cell_type": "markdown",
   "metadata": {},
   "source": [
    "### 5. Give one advantage when using regression (as opposed to classification with nominal features) in terms of input data features."
   ]
  },
  {
   "cell_type": "markdown",
   "metadata": {},
   "source": [
    "Note that when it comes to regression vs classification; classification is the task of predicting a discrete class label; regression is the task of predicting a continuous quantity.\n",
    "With regression it is much easier to witness the effect of an input feature on the target value since the relation is being modeled by a hypterplane. Furthermore, for input data feature, new levels that are half-way between two levels can be easily encoded."
   ]
  },
  {
   "cell_type": "markdown",
   "metadata": {},
   "source": [
    "### 6. Give one advantage when using regular numerical values rather than one-hot encoding for regression."
   ]
  },
  {
   "cell_type": "markdown",
   "metadata": {},
   "source": [
    "For numerical features never seen before feature values can be used. This provides a bit more clarity/transperancy when it comes to generalization of an algorithm. For nominal never seen before levels can be encoded, assuming there is a relation between the levels of features."
   ]
  },
  {
   "cell_type": "markdown",
   "metadata": {},
   "source": [
    "### 7. Now that you developed both a classifier and a regression model for this problem, which method do you suggest to your machine learning model customer and why?"
   ]
  },
  {
   "cell_type": "markdown",
   "metadata": {},
   "source": [
    "We should recommend regression on this dataset with numerical target variable than classification. This is because sometimes the simlest relation such as a hyperplan fit is the best model. If we have a really large dataset then we can use neural networks but for this problem regression should be recommended. Furthermore, also consider the fact that classification is better choice when the desired output is a discrete label; helpful when the answer to our question falls under a finite set of possible outcomes. In order to use classification on this dataset, we would have to convert our prediction feature - suicides/100k pop - to accomodate for classification. No matter how hard we try we will lose some information in this conversion. Therefore, this is another reason to use regression and preseve the \"original\" form."
   ]
  }
 ],
 "metadata": {
  "kernelspec": {
   "display_name": "Python 3",
   "language": "python",
   "name": "python3"
  },
  "language_info": {
   "codemirror_mode": {
    "name": "ipython",
    "version": 3
   },
   "file_extension": ".py",
   "mimetype": "text/x-python",
   "name": "python",
   "nbconvert_exporter": "python",
   "pygments_lexer": "ipython3",
   "version": "3.8.5"
  }
 },
 "nbformat": 4,
 "nbformat_minor": 4
}
